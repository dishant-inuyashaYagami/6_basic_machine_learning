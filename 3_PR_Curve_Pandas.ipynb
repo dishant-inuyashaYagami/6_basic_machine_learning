{
 "cells": [
  {
   "cell_type": "markdown",
   "id": "5a4e9e74",
   "metadata": {},
   "source": [
    "## PR-Curve and Table"
   ]
  },
  {
   "cell_type": "markdown",
   "id": "f5cef882",
   "metadata": {},
   "source": [
    "## Parameters"
   ]
  },
  {
   "cell_type": "code",
   "execution_count": 6,
   "id": "da28ae6f",
   "metadata": {
    "execution": {
     "iopub.execute_input": "2022-06-08T03:46:27.007799Z",
     "iopub.status.busy": "2022-06-08T03:46:27.007396Z",
     "iopub.status.idle": "2022-06-08T03:46:27.118808Z",
     "shell.execute_reply": "2022-06-08T03:46:27.117528Z",
     "shell.execute_reply.started": "2022-06-08T03:46:27.007752Z"
    },
    "tags": []
   },
   "outputs": [],
   "source": [
    "browse_node_level = 9\n",
    "\n",
    "t1 = [0.5, 0.5, 0.5, 0.4, 0.4, 0.4, 0.3, 0.3, 0.3] \n",
    "t2 = [0.2, 0.2, 0.2, 0.2, 0.2, 0.2, 0.2, 0.2, 0.2]\n",
    "t3 = [0.3, 0.3, 0.3, 0.3, 0.3, 0.3, 0.3, 0.3, 0.3]\n",
    "t4 = [0.4, 0.4, 0.4, 0.4, 0.4, 0.4, 0.4, 0.4, 0.4]\n",
    "t5 = [0.5, 0.5, 0.5, 0.5, 0.5, 0.5, 0.5, 0.5, 0.5]\n",
    "t6 = [0.6, 0.6, 0.6, 0.6, 0.6, 0.6, 0.6, 0.6, 0.6]\n",
    "t7 = [0.7, 0.7, 0.7, 0.7, 0.7, 0.7, 0.7, 0.7, 0.7]\n",
    "t7_no_root = [0.0, 0.7, 0.7, 0.7, 0.7, 0.7, 0.7, 0.7, 0.7]\n",
    "t8 = [0.8, 0.8, 0.8, 0.8, 0.8, 0.8, 0.8, 0.8, 0.8]\n",
    "\n",
    "t10 = [0.2, 0.3, 0.3, 0.3, 0.4, 0.4, 0.4, 0.4, 0.5]\n",
    "\n",
    "threshold = t7\n",
    "t_string = \"t7\"\n",
    "max_block_size = 10000\n",
    "\n",
    "block_size = 10000\n",
    "num_levels = 9      # Maximum Number of Levels Are 9 ranging from 1 to 9"
   ]
  },
  {
   "cell_type": "markdown",
   "id": "e8dced7b",
   "metadata": {},
   "source": [
    "## Main Code"
   ]
  },
  {
   "cell_type": "code",
   "execution_count": 12,
   "id": "dac04423",
   "metadata": {},
   "outputs": [],
   "source": [
    "threshold_value = [0.25, 0.30, 0.35, 0.40, 0.45, 0.50, 0.55, 0.60, 0.65, 0.70, 0.75, 0.80, 0.85, 0.90, 0.95]\n",
    "true_positives = [35, 35, 35, 35, 35, 35, 35, 35, 34, 31, 29, 27, 25, 20, 15]\n",
    "false_positives = [15, 13, 13, 13, 12, 12, 12, 10, 10, 8, 6, 6, 6, 4, 1]\n",
    "total_positives = 35"
   ]
  },
  {
   "cell_type": "code",
   "execution_count": 13,
   "id": "f0e4d19d",
   "metadata": {},
   "outputs": [
    {
     "name": "stdout",
     "output_type": "stream",
     "text": [
      "[0.7, 0.7291666666666666, 0.7291666666666666, 0.7291666666666666, 0.7446808510638298, 0.7446808510638298, 0.7446808510638298, 0.7777777777777778, 0.7727272727272727, 0.7948717948717948, 0.8285714285714286, 0.8181818181818182, 0.8064516129032258, 0.8333333333333334, 0.9375]\n",
      "[1.0, 1.0, 1.0, 1.0, 1.0, 1.0, 1.0, 1.0, 0.9714285714285714, 0.8857142857142857, 0.8285714285714286, 0.7714285714285715, 0.7142857142857143, 0.5714285714285714, 0.42857142857142855]\n",
      "[0.8235294117647058, 0.8433734939759037, 0.8433734939759037, 0.8433734939759037, 0.8536585365853657, 0.8536585365853657, 0.8536585365853657, 0.8750000000000001, 0.8607594936708862, 0.8378378378378378, 0.8285714285714286, 0.7941176470588236, 0.7575757575757576, 0.6779661016949152, 0.588235294117647]\n"
     ]
    }
   ],
   "source": [
    "precision_list = []\n",
    "recall_list = []\n",
    "f1_score_list = []\n",
    "\n",
    "for index in range(0,len(true_positives)):\n",
    "    \n",
    "    precision = true_positives[index]/ (true_positives[index] + false_positives[index])\n",
    "    recall = true_positives[index]/total_positives\n",
    "    f1_score = 2*precision*recall/(recall + precision)\n",
    "    \n",
    "    precision_list.append(precision)\n",
    "    recall_list.append(recall)\n",
    "    f1_score_list.append(f1_score)\n",
    "\n",
    "print(precision_list)\n",
    "print(recall_list)\n",
    "print(f1_score_list)"
   ]
  },
  {
   "cell_type": "code",
   "execution_count": 14,
   "id": "4ee0341c",
   "metadata": {},
   "outputs": [],
   "source": [
    "all_list = []\n",
    "for index in range(0, len(true_positives)):\n",
    "    row = (threshold_value[index], true_positives[index], false_positives[index], precision_list[index], recall_list[index], f1_score_list[index])\n",
    "    all_list.append(row)    "
   ]
  },
  {
   "cell_type": "code",
   "execution_count": 15,
   "id": "fef14a94",
   "metadata": {},
   "outputs": [
    {
     "data": {
      "text/html": [
       "<div>\n",
       "<style scoped>\n",
       "    .dataframe tbody tr th:only-of-type {\n",
       "        vertical-align: middle;\n",
       "    }\n",
       "\n",
       "    .dataframe tbody tr th {\n",
       "        vertical-align: top;\n",
       "    }\n",
       "\n",
       "    .dataframe thead th {\n",
       "        text-align: right;\n",
       "    }\n",
       "</style>\n",
       "<table border=\"1\" class=\"dataframe\">\n",
       "  <thead>\n",
       "    <tr style=\"text-align: right;\">\n",
       "      <th></th>\n",
       "      <th>Threshold_Value</th>\n",
       "      <th>#True_Positives</th>\n",
       "      <th>#False_Positives</th>\n",
       "      <th>Precision</th>\n",
       "      <th>Recall</th>\n",
       "      <th>F1_Score</th>\n",
       "    </tr>\n",
       "  </thead>\n",
       "  <tbody>\n",
       "    <tr>\n",
       "      <th>0</th>\n",
       "      <td>0.25</td>\n",
       "      <td>35</td>\n",
       "      <td>15</td>\n",
       "      <td>0.700000</td>\n",
       "      <td>1.000000</td>\n",
       "      <td>0.823529</td>\n",
       "    </tr>\n",
       "    <tr>\n",
       "      <th>1</th>\n",
       "      <td>0.30</td>\n",
       "      <td>35</td>\n",
       "      <td>13</td>\n",
       "      <td>0.729167</td>\n",
       "      <td>1.000000</td>\n",
       "      <td>0.843373</td>\n",
       "    </tr>\n",
       "    <tr>\n",
       "      <th>2</th>\n",
       "      <td>0.35</td>\n",
       "      <td>35</td>\n",
       "      <td>13</td>\n",
       "      <td>0.729167</td>\n",
       "      <td>1.000000</td>\n",
       "      <td>0.843373</td>\n",
       "    </tr>\n",
       "    <tr>\n",
       "      <th>3</th>\n",
       "      <td>0.40</td>\n",
       "      <td>35</td>\n",
       "      <td>13</td>\n",
       "      <td>0.729167</td>\n",
       "      <td>1.000000</td>\n",
       "      <td>0.843373</td>\n",
       "    </tr>\n",
       "    <tr>\n",
       "      <th>4</th>\n",
       "      <td>0.45</td>\n",
       "      <td>35</td>\n",
       "      <td>12</td>\n",
       "      <td>0.744681</td>\n",
       "      <td>1.000000</td>\n",
       "      <td>0.853659</td>\n",
       "    </tr>\n",
       "    <tr>\n",
       "      <th>5</th>\n",
       "      <td>0.50</td>\n",
       "      <td>35</td>\n",
       "      <td>12</td>\n",
       "      <td>0.744681</td>\n",
       "      <td>1.000000</td>\n",
       "      <td>0.853659</td>\n",
       "    </tr>\n",
       "    <tr>\n",
       "      <th>6</th>\n",
       "      <td>0.55</td>\n",
       "      <td>35</td>\n",
       "      <td>12</td>\n",
       "      <td>0.744681</td>\n",
       "      <td>1.000000</td>\n",
       "      <td>0.853659</td>\n",
       "    </tr>\n",
       "    <tr>\n",
       "      <th>7</th>\n",
       "      <td>0.60</td>\n",
       "      <td>35</td>\n",
       "      <td>10</td>\n",
       "      <td>0.777778</td>\n",
       "      <td>1.000000</td>\n",
       "      <td>0.875000</td>\n",
       "    </tr>\n",
       "    <tr>\n",
       "      <th>8</th>\n",
       "      <td>0.65</td>\n",
       "      <td>34</td>\n",
       "      <td>10</td>\n",
       "      <td>0.772727</td>\n",
       "      <td>0.971429</td>\n",
       "      <td>0.860759</td>\n",
       "    </tr>\n",
       "    <tr>\n",
       "      <th>9</th>\n",
       "      <td>0.70</td>\n",
       "      <td>31</td>\n",
       "      <td>8</td>\n",
       "      <td>0.794872</td>\n",
       "      <td>0.885714</td>\n",
       "      <td>0.837838</td>\n",
       "    </tr>\n",
       "    <tr>\n",
       "      <th>10</th>\n",
       "      <td>0.75</td>\n",
       "      <td>29</td>\n",
       "      <td>6</td>\n",
       "      <td>0.828571</td>\n",
       "      <td>0.828571</td>\n",
       "      <td>0.828571</td>\n",
       "    </tr>\n",
       "    <tr>\n",
       "      <th>11</th>\n",
       "      <td>0.80</td>\n",
       "      <td>27</td>\n",
       "      <td>6</td>\n",
       "      <td>0.818182</td>\n",
       "      <td>0.771429</td>\n",
       "      <td>0.794118</td>\n",
       "    </tr>\n",
       "    <tr>\n",
       "      <th>12</th>\n",
       "      <td>0.85</td>\n",
       "      <td>25</td>\n",
       "      <td>6</td>\n",
       "      <td>0.806452</td>\n",
       "      <td>0.714286</td>\n",
       "      <td>0.757576</td>\n",
       "    </tr>\n",
       "    <tr>\n",
       "      <th>13</th>\n",
       "      <td>0.90</td>\n",
       "      <td>20</td>\n",
       "      <td>4</td>\n",
       "      <td>0.833333</td>\n",
       "      <td>0.571429</td>\n",
       "      <td>0.677966</td>\n",
       "    </tr>\n",
       "    <tr>\n",
       "      <th>14</th>\n",
       "      <td>0.95</td>\n",
       "      <td>15</td>\n",
       "      <td>1</td>\n",
       "      <td>0.937500</td>\n",
       "      <td>0.428571</td>\n",
       "      <td>0.588235</td>\n",
       "    </tr>\n",
       "  </tbody>\n",
       "</table>\n",
       "</div>"
      ],
      "text/plain": [
       "    Threshold_Value  #True_Positives  #False_Positives  Precision    Recall  \\\n",
       "0              0.25               35                15   0.700000  1.000000   \n",
       "1              0.30               35                13   0.729167  1.000000   \n",
       "2              0.35               35                13   0.729167  1.000000   \n",
       "3              0.40               35                13   0.729167  1.000000   \n",
       "4              0.45               35                12   0.744681  1.000000   \n",
       "5              0.50               35                12   0.744681  1.000000   \n",
       "6              0.55               35                12   0.744681  1.000000   \n",
       "7              0.60               35                10   0.777778  1.000000   \n",
       "8              0.65               34                10   0.772727  0.971429   \n",
       "9              0.70               31                 8   0.794872  0.885714   \n",
       "10             0.75               29                 6   0.828571  0.828571   \n",
       "11             0.80               27                 6   0.818182  0.771429   \n",
       "12             0.85               25                 6   0.806452  0.714286   \n",
       "13             0.90               20                 4   0.833333  0.571429   \n",
       "14             0.95               15                 1   0.937500  0.428571   \n",
       "\n",
       "    F1_Score  \n",
       "0   0.823529  \n",
       "1   0.843373  \n",
       "2   0.843373  \n",
       "3   0.843373  \n",
       "4   0.853659  \n",
       "5   0.853659  \n",
       "6   0.853659  \n",
       "7   0.875000  \n",
       "8   0.860759  \n",
       "9   0.837838  \n",
       "10  0.828571  \n",
       "11  0.794118  \n",
       "12  0.757576  \n",
       "13  0.677966  \n",
       "14  0.588235  "
      ]
     },
     "execution_count": 15,
     "metadata": {},
     "output_type": "execute_result"
    }
   ],
   "source": [
    "import pandas\n",
    "df = pandas.DataFrame(all_list, columns = ['Threshold_Value','#True_Positives','#False_Positives'\\\n",
    "                                       ,'Precision', 'Recall', 'F1_Score'])\n",
    "df.head(20)\n",
    "\n",
    "\n"
   ]
  },
  {
   "cell_type": "code",
   "execution_count": 16,
   "id": "a19d3988",
   "metadata": {},
   "outputs": [],
   "source": [
    "import matplotlib.pyplot as plt"
   ]
  },
  {
   "cell_type": "code",
   "execution_count": 17,
   "id": "10cfbe18",
   "metadata": {},
   "outputs": [
    {
     "data": {
      "image/png": "[encoded data removed]",
      "text/plain": [
       "<Figure size 432x288 with 1 Axes>"
      ]
     },
     "metadata": {
      "needs_background": "light"
     },
     "output_type": "display_data"
    }
   ],
   "source": [
    "#Use Command+Shift+4 for screenshot\n",
    "\n",
    "# x = dfe2.precision.tolist()\n",
    "# y = dfe2.recall.tolist()\n",
    "\n",
    "plt.plot(precision_list, recall_list)\n",
    "plt.xlabel('Precision')\n",
    "plt.ylabel('Recall')\n",
    "  \n",
    "plt.title('PR_Curve')\n",
    "plt.show()\n",
    "#plt.savefig('PR_Curve.png')"
   ]
  },
  {
   "cell_type": "code",
   "execution_count": null,
   "id": "0de678ab",
   "metadata": {},
   "outputs": [],
   "source": []
  }
 ],
 "metadata": {
  "kernelspec": {
   "display_name": "Python 3 (ipykernel)",
   "language": "python",
   "name": "python3"
  },
  "language_info": {
   "codemirror_mode": {
    "name": "ipython",
    "version": 3
   },
   "file_extension": ".py",
   "mimetype": "text/x-python",
   "name": "python",
   "nbconvert_exporter": "python",
   "pygments_lexer": "ipython3",
   "version": "3.9.12"
  }
 },
 "nbformat": 4,
 "nbformat_minor": 5
}
