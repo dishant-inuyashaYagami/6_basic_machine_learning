{
 "cells": [
  {
   "cell_type": "markdown",
   "id": "9aef286c-34c6-4d18-8490-2b5f4f05d929",
   "metadata": {},
   "source": [
    "## ============   Scikit Learn: MLP    ==============="
   ]
  },
  {
   "cell_type": "code",
   "execution_count": 1,
   "id": "ebf06a1e-352d-4c91-b3d9-caef196a1d3a",
   "metadata": {},
   "outputs": [],
   "source": [
    "use_one_hot_encoding = 1     #  makes sense with neural network\n",
    "\n",
    "# accuracy:  train, valid, test ~ 0.5       ===== BEST\n",
    "\n",
    "# IMP POINT: seems like only decision trees are good for categorical data; but why nn is not good at it?\n",
    "#                                                                              even with one hot encoding?\n",
    "\n",
    "need_label_encoding = ['team','host','opp','month', 'day_match']"
   ]
  },
  {
   "cell_type": "code",
   "execution_count": null,
   "id": "338c90ca-efc7-464d-8c9b-aa5ab7882925",
   "metadata": {},
   "outputs": [],
   "source": []
  },
  {
   "cell_type": "markdown",
   "id": "28eebe3e-5009-4379-b1d9-28cda932a3f0",
   "metadata": {},
   "source": [
    "### Loading Data"
   ]
  },
  {
   "cell_type": "code",
   "execution_count": 2,
   "id": "04766ac6-8690-4562-b6fb-69fed87e840c",
   "metadata": {},
   "outputs": [
    {
     "data": {
      "text/html": [
       "<div>\n",
       "<style scoped>\n",
       "    .dataframe tbody tr th:only-of-type {\n",
       "        vertical-align: middle;\n",
       "    }\n",
       "\n",
       "    .dataframe tbody tr th {\n",
       "        vertical-align: top;\n",
       "    }\n",
       "\n",
       "    .dataframe thead th {\n",
       "        text-align: right;\n",
       "    }\n",
       "</style>\n",
       "<table border=\"1\" class=\"dataframe\">\n",
       "  <thead>\n",
       "    <tr style=\"text-align: right;\">\n",
       "      <th></th>\n",
       "      <th>team</th>\n",
       "      <th>opp</th>\n",
       "      <th>host</th>\n",
       "      <th>year</th>\n",
       "      <th>month</th>\n",
       "      <th>toss</th>\n",
       "      <th>day_match</th>\n",
       "      <th>bat_first</th>\n",
       "      <th>format</th>\n",
       "      <th>fow</th>\n",
       "      <th>score</th>\n",
       "      <th>rpo</th>\n",
       "      <th>result</th>\n",
       "    </tr>\n",
       "  </thead>\n",
       "  <tbody>\n",
       "    <tr>\n",
       "      <th>0</th>\n",
       "      <td>australia</td>\n",
       "      <td>south_africa</td>\n",
       "      <td>sri_lanka</td>\n",
       "      <td>2012</td>\n",
       "      <td>sep</td>\n",
       "      <td>1</td>\n",
       "      <td>0</td>\n",
       "      <td>0</td>\n",
       "      <td>1</td>\n",
       "      <td>5</td>\n",
       "      <td>146</td>\n",
       "      <td>7.30</td>\n",
       "      <td>1</td>\n",
       "    </tr>\n",
       "    <tr>\n",
       "      <th>1</th>\n",
       "      <td>india</td>\n",
       "      <td>australia</td>\n",
       "      <td>india</td>\n",
       "      <td>2020</td>\n",
       "      <td>jan</td>\n",
       "      <td>0</td>\n",
       "      <td>0</td>\n",
       "      <td>1</td>\n",
       "      <td>0</td>\n",
       "      <td>6</td>\n",
       "      <td>340</td>\n",
       "      <td>6.80</td>\n",
       "      <td>1</td>\n",
       "    </tr>\n",
       "    <tr>\n",
       "      <th>2</th>\n",
       "      <td>canada</td>\n",
       "      <td>scotland</td>\n",
       "      <td>scotland</td>\n",
       "      <td>2009</td>\n",
       "      <td>jul</td>\n",
       "      <td>1</td>\n",
       "      <td>1</td>\n",
       "      <td>0</td>\n",
       "      <td>0</td>\n",
       "      <td>4</td>\n",
       "      <td>286</td>\n",
       "      <td>5.72</td>\n",
       "      <td>1</td>\n",
       "    </tr>\n",
       "    <tr>\n",
       "      <th>3</th>\n",
       "      <td>australia</td>\n",
       "      <td>england</td>\n",
       "      <td>australia</td>\n",
       "      <td>1987</td>\n",
       "      <td>jan</td>\n",
       "      <td>1</td>\n",
       "      <td>1</td>\n",
       "      <td>1</td>\n",
       "      <td>0</td>\n",
       "      <td>6</td>\n",
       "      <td>225</td>\n",
       "      <td>4.50</td>\n",
       "      <td>1</td>\n",
       "    </tr>\n",
       "    <tr>\n",
       "      <th>4</th>\n",
       "      <td>new_zealand</td>\n",
       "      <td>pakistan</td>\n",
       "      <td>uae</td>\n",
       "      <td>2009</td>\n",
       "      <td>nov</td>\n",
       "      <td>0</td>\n",
       "      <td>0</td>\n",
       "      <td>0</td>\n",
       "      <td>1</td>\n",
       "      <td>5</td>\n",
       "      <td>153</td>\n",
       "      <td>7.65</td>\n",
       "      <td>0</td>\n",
       "    </tr>\n",
       "  </tbody>\n",
       "</table>\n",
       "</div>"
      ],
      "text/plain": [
       "          team           opp       host  year month  toss  day_match  \\\n",
       "0    australia  south_africa  sri_lanka  2012   sep     1          0   \n",
       "1        india     australia      india  2020   jan     0          0   \n",
       "2       canada      scotland   scotland  2009   jul     1          1   \n",
       "3    australia       england  australia  1987   jan     1          1   \n",
       "4  new_zealand      pakistan        uae  2009   nov     0          0   \n",
       "\n",
       "   bat_first  format  fow  score   rpo  result  \n",
       "0          0       1    5    146  7.30       1  \n",
       "1          1       0    6    340  6.80       1  \n",
       "2          0       0    4    286  5.72       1  \n",
       "3          1       0    6    225  4.50       1  \n",
       "4          0       1    5    153  7.65       0  "
      ]
     },
     "execution_count": 2,
     "metadata": {},
     "output_type": "execute_result"
    }
   ],
   "source": [
    "import pandas as pd\n",
    "df = pd.read_csv('dataset_cricket_match/train.csv')\n",
    "df = df.drop(\"Unnamed: 0\", axis = 1)\n",
    "df.head(5)\n",
    "# fow: fall of wicket;   rpo: run per over or run rate"
   ]
  },
  {
   "cell_type": "code",
   "execution_count": null,
   "id": "1fdd0dff-aacb-4d60-96a5-b2ac7cff4dbf",
   "metadata": {},
   "outputs": [],
   "source": []
  },
  {
   "cell_type": "markdown",
   "id": "576ea42b-bbb2-496f-86ce-2fcdae5f8a7f",
   "metadata": {},
   "source": [
    "### Convert Categorical Data to One Hot Encoding"
   ]
  },
  {
   "cell_type": "code",
   "execution_count": 3,
   "id": "5232448c-c72c-4470-93ee-6d79b0e4fc9a",
   "metadata": {},
   "outputs": [
    {
     "data": {
      "text/html": [
       "<div>\n",
       "<style scoped>\n",
       "    .dataframe tbody tr th:only-of-type {\n",
       "        vertical-align: middle;\n",
       "    }\n",
       "\n",
       "    .dataframe tbody tr th {\n",
       "        vertical-align: top;\n",
       "    }\n",
       "\n",
       "    .dataframe thead th {\n",
       "        text-align: right;\n",
       "    }\n",
       "</style>\n",
       "<table border=\"1\" class=\"dataframe\">\n",
       "  <thead>\n",
       "    <tr style=\"text-align: right;\">\n",
       "      <th></th>\n",
       "      <th>year</th>\n",
       "      <th>toss</th>\n",
       "      <th>bat_first</th>\n",
       "      <th>format</th>\n",
       "      <th>fow</th>\n",
       "      <th>score</th>\n",
       "      <th>rpo</th>\n",
       "      <th>result</th>\n",
       "      <th>team_australia</th>\n",
       "      <th>team_india</th>\n",
       "      <th>...</th>\n",
       "      <th>month_mar</th>\n",
       "      <th>month_jun</th>\n",
       "      <th>month_oct</th>\n",
       "      <th>month_feb</th>\n",
       "      <th>month_apr</th>\n",
       "      <th>month_may</th>\n",
       "      <th>month_dec</th>\n",
       "      <th>day_match_0</th>\n",
       "      <th>day_match_1</th>\n",
       "      <th>day_match_2</th>\n",
       "    </tr>\n",
       "  </thead>\n",
       "  <tbody>\n",
       "    <tr>\n",
       "      <th>0</th>\n",
       "      <td>2012</td>\n",
       "      <td>1</td>\n",
       "      <td>0</td>\n",
       "      <td>1</td>\n",
       "      <td>5</td>\n",
       "      <td>146</td>\n",
       "      <td>7.30</td>\n",
       "      <td>1</td>\n",
       "      <td>1</td>\n",
       "      <td>0</td>\n",
       "      <td>...</td>\n",
       "      <td>0</td>\n",
       "      <td>0</td>\n",
       "      <td>0</td>\n",
       "      <td>0</td>\n",
       "      <td>0</td>\n",
       "      <td>0</td>\n",
       "      <td>0</td>\n",
       "      <td>1</td>\n",
       "      <td>0</td>\n",
       "      <td>0</td>\n",
       "    </tr>\n",
       "    <tr>\n",
       "      <th>1</th>\n",
       "      <td>2020</td>\n",
       "      <td>0</td>\n",
       "      <td>1</td>\n",
       "      <td>0</td>\n",
       "      <td>6</td>\n",
       "      <td>340</td>\n",
       "      <td>6.80</td>\n",
       "      <td>1</td>\n",
       "      <td>0</td>\n",
       "      <td>1</td>\n",
       "      <td>...</td>\n",
       "      <td>0</td>\n",
       "      <td>0</td>\n",
       "      <td>0</td>\n",
       "      <td>0</td>\n",
       "      <td>0</td>\n",
       "      <td>0</td>\n",
       "      <td>0</td>\n",
       "      <td>1</td>\n",
       "      <td>0</td>\n",
       "      <td>0</td>\n",
       "    </tr>\n",
       "    <tr>\n",
       "      <th>2</th>\n",
       "      <td>2009</td>\n",
       "      <td>1</td>\n",
       "      <td>0</td>\n",
       "      <td>0</td>\n",
       "      <td>4</td>\n",
       "      <td>286</td>\n",
       "      <td>5.72</td>\n",
       "      <td>1</td>\n",
       "      <td>0</td>\n",
       "      <td>0</td>\n",
       "      <td>...</td>\n",
       "      <td>0</td>\n",
       "      <td>0</td>\n",
       "      <td>0</td>\n",
       "      <td>0</td>\n",
       "      <td>0</td>\n",
       "      <td>0</td>\n",
       "      <td>0</td>\n",
       "      <td>0</td>\n",
       "      <td>1</td>\n",
       "      <td>0</td>\n",
       "    </tr>\n",
       "    <tr>\n",
       "      <th>3</th>\n",
       "      <td>1987</td>\n",
       "      <td>1</td>\n",
       "      <td>1</td>\n",
       "      <td>0</td>\n",
       "      <td>6</td>\n",
       "      <td>225</td>\n",
       "      <td>4.50</td>\n",
       "      <td>1</td>\n",
       "      <td>1</td>\n",
       "      <td>0</td>\n",
       "      <td>...</td>\n",
       "      <td>0</td>\n",
       "      <td>0</td>\n",
       "      <td>0</td>\n",
       "      <td>0</td>\n",
       "      <td>0</td>\n",
       "      <td>0</td>\n",
       "      <td>0</td>\n",
       "      <td>0</td>\n",
       "      <td>1</td>\n",
       "      <td>0</td>\n",
       "    </tr>\n",
       "    <tr>\n",
       "      <th>4</th>\n",
       "      <td>2009</td>\n",
       "      <td>0</td>\n",
       "      <td>0</td>\n",
       "      <td>1</td>\n",
       "      <td>5</td>\n",
       "      <td>153</td>\n",
       "      <td>7.65</td>\n",
       "      <td>0</td>\n",
       "      <td>0</td>\n",
       "      <td>0</td>\n",
       "      <td>...</td>\n",
       "      <td>0</td>\n",
       "      <td>0</td>\n",
       "      <td>0</td>\n",
       "      <td>0</td>\n",
       "      <td>0</td>\n",
       "      <td>0</td>\n",
       "      <td>0</td>\n",
       "      <td>1</td>\n",
       "      <td>0</td>\n",
       "      <td>0</td>\n",
       "    </tr>\n",
       "  </tbody>\n",
       "</table>\n",
       "<p>5 rows × 80 columns</p>\n",
       "</div>"
      ],
      "text/plain": [
       "   year  toss  bat_first  format  fow  score   rpo  result  team_australia  \\\n",
       "0  2012     1          0       1    5    146  7.30       1               1   \n",
       "1  2020     0          1       0    6    340  6.80       1               0   \n",
       "2  2009     1          0       0    4    286  5.72       1               0   \n",
       "3  1987     1          1       0    6    225  4.50       1               1   \n",
       "4  2009     0          0       1    5    153  7.65       0               0   \n",
       "\n",
       "   team_india  ...  month_mar  month_jun  month_oct  month_feb  month_apr  \\\n",
       "0           0  ...          0          0          0          0          0   \n",
       "1           1  ...          0          0          0          0          0   \n",
       "2           0  ...          0          0          0          0          0   \n",
       "3           0  ...          0          0          0          0          0   \n",
       "4           0  ...          0          0          0          0          0   \n",
       "\n",
       "   month_may  month_dec  day_match_0  day_match_1  day_match_2  \n",
       "0          0          0            1            0            0  \n",
       "1          0          0            1            0            0  \n",
       "2          0          0            0            1            0  \n",
       "3          0          0            0            1            0  \n",
       "4          0          0            1            0            0  \n",
       "\n",
       "[5 rows x 80 columns]"
      ]
     },
     "execution_count": 3,
     "metadata": {},
     "output_type": "execute_result"
    }
   ],
   "source": [
    "def convert_df_to_one_hot(df):\n",
    "    for attr_name in need_label_encoding:\n",
    "        unique_attr = df[attr_name].unique()\n",
    "        for attr_val in unique_attr:\n",
    "            new_attr_name = attr_name + \"_\" + str(attr_val)\n",
    "            df[new_attr_name] = 0\n",
    "            df.loc[df[attr_name] == attr_val, new_attr_name] = 1\n",
    "        df = df.drop(attr_name, axis = 1) # drops columns\n",
    "    return df\n",
    "    \n",
    "if use_one_hot_encoding == 1:\n",
    "   df = convert_df_to_one_hot(df) \n",
    "df.head()"
   ]
  },
  {
   "cell_type": "code",
   "execution_count": null,
   "id": "67023b20-b573-4e50-b2e4-ef5b315ac88b",
   "metadata": {},
   "outputs": [],
   "source": []
  },
  {
   "cell_type": "markdown",
   "id": "cced04dd-fdf6-43ff-90ad-b0138b6b4363",
   "metadata": {},
   "source": [
    "### STATS"
   ]
  },
  {
   "cell_type": "code",
   "execution_count": 4,
   "id": "2fb3e181-a851-4725-872c-ac989d0863a3",
   "metadata": {},
   "outputs": [
    {
     "name": "stdout",
     "output_type": "stream",
     "text": [
      "number of rows         :  7827\n",
      "number of features     :  79\n",
      "number of class labels :  2\n"
     ]
    }
   ],
   "source": [
    "print (\"number of rows         : \", df.shape[0])\n",
    "print (\"number of features     : \", df.shape[1]-1)  # excluding the class labels\n",
    "print (\"number of class labels : \", 2)\n",
    "#df.info()"
   ]
  },
  {
   "cell_type": "code",
   "execution_count": null,
   "id": "f0416724-25f0-4edf-b402-1a9050cb6e62",
   "metadata": {},
   "outputs": [],
   "source": []
  },
  {
   "cell_type": "markdown",
   "id": "7531863c-fd12-470b-b76f-8b6f105c9c21",
   "metadata": {},
   "source": [
    "### Identify Attributes as Categorical or Continuous"
   ]
  },
  {
   "cell_type": "code",
   "execution_count": 5,
   "id": "757d84a1-5b65-4df7-99e8-7ee32cc151e3",
   "metadata": {},
   "outputs": [],
   "source": [
    "attr_list = df.axes[1].tolist()\n",
    "attr_list.remove('result')\n",
    "cont_attr = ['fow', 'score', 'rpo']"
   ]
  },
  {
   "cell_type": "code",
   "execution_count": null,
   "id": "dfcf3942-82ba-408f-a961-dc65e37106c5",
   "metadata": {},
   "outputs": [],
   "source": []
  },
  {
   "cell_type": "markdown",
   "id": "cc2a9cad-64a6-4c90-a074-099dddc1e0b6",
   "metadata": {},
   "source": [
    "### Convert to Numpy Arrays"
   ]
  },
  {
   "cell_type": "code",
   "execution_count": 6,
   "id": "17046279-4773-4ae7-95b2-4f7cf57bcb71",
   "metadata": {},
   "outputs": [
    {
     "name": "stdout",
     "output_type": "stream",
     "text": [
      "data and features shape:  (7827, 79)\n",
      "class lables shape     :  (7827,)\n"
     ]
    }
   ],
   "source": [
    "import numpy as np\n",
    "y_train = df['result'].to_numpy()\n",
    "df      = df.drop(\"result\", axis = 1)\n",
    "x_train = df.to_numpy()\n",
    "print (\"data and features shape: \", x_train.shape)\n",
    "print (\"class lables shape     : \", y_train.shape)"
   ]
  },
  {
   "cell_type": "code",
   "execution_count": null,
   "id": "57be3c57-bf2a-48bd-b4fb-85b3debb41fe",
   "metadata": {},
   "outputs": [],
   "source": []
  },
  {
   "cell_type": "markdown",
   "id": "e6eb789b-7546-492a-9658-6b448e85bae5",
   "metadata": {},
   "source": [
    "### MLP Classifier Train"
   ]
  },
  {
   "cell_type": "code",
   "execution_count": 7,
   "id": "4a03eaeb-673f-4eda-853d-54d57042e066",
   "metadata": {},
   "outputs": [],
   "source": [
    "from sklearn.neural_network import MLPClassifier\n",
    "\n",
    "clf = MLPClassifier(random_state=1, max_iter=500, hidden_layer_sizes = [100,50,10,10,10,10]).fit(x_train, y_train)\n",
    "\n",
    "# number of iter = 300 (epochs), relu, adam, learning rate = 0.001, batch size = 'auto', last activation: softmax, \n",
    "# hidden layer = [100], alpha = 0.0001\n",
    "# setting random state ensures reproducibility"
   ]
  },
  {
   "cell_type": "code",
   "execution_count": null,
   "id": "80ceac9b-1998-4c66-aa37-e4c64a51b01f",
   "metadata": {},
   "outputs": [],
   "source": []
  },
  {
   "cell_type": "markdown",
   "id": "1e459329-e3f7-4313-a43f-16a86919ba81",
   "metadata": {},
   "source": [
    "### Scikit Predict"
   ]
  },
  {
   "cell_type": "code",
   "execution_count": 8,
   "id": "1e6f0f32-7a0e-4e24-9829-25f307f0616e",
   "metadata": {},
   "outputs": [
    {
     "name": "stdout",
     "output_type": "stream",
     "text": [
      "number of rows         :  7827\n",
      "number of rows         :  870\n",
      "number of rows         :  967\n"
     ]
    }
   ],
   "source": [
    "import pandas as pd\n",
    "from sklearn.metrics import classification_report, confusion_matrix, accuracy_score\n",
    "\n",
    "train_df = pd.read_csv('dataset_cricket_match/train.csv')\n",
    "valid_df = pd.read_csv('dataset_cricket_match/val.csv')\n",
    "test_df  = pd.read_csv('dataset_cricket_match/test.csv')\n",
    "df_list  = [train_df, valid_df, test_df] \n",
    "x_list   = []\n",
    "y_list   = []\n",
    "\n",
    "index = 0\n",
    "for df in df_list:\n",
    "    df = df.drop(\"Unnamed: 0\", axis = 1)\n",
    "    if use_one_hot_encoding == 1:           # converting categorical attributes to one hot encoded vector\n",
    "        df = convert_df_to_one_hot(df) \n",
    "    print (\"number of rows         : \", df.shape[0])\n",
    "    \n",
    "    y_data = df['result'].to_numpy()\n",
    "    df     = df.drop(\"result\", axis = 1)\n",
    "    x_data = df.to_numpy()\n",
    "\n",
    "    x_list.append(x_data)\n",
    "    y_list.append(y_data)\n",
    "    "
   ]
  },
  {
   "cell_type": "code",
   "execution_count": 9,
   "id": "ea5ad9d0-08eb-42b8-befe-c6984680ece1",
   "metadata": {},
   "outputs": [
    {
     "name": "stdout",
     "output_type": "stream",
     "text": [
      "\n",
      "accuracy:  0.5033857161108982\n",
      "\n",
      "accuracy:  0.4735632183908046\n",
      "\n",
      "accuracy:  0.4963805584281282\n"
     ]
    }
   ],
   "source": [
    "from sklearn.metrics import classification_report, confusion_matrix, accuracy_score\n",
    "def getAccuracy(index, enable_prints):\n",
    "    y_pred = clf.predict(x_list[index])\n",
    "    y_pred = y_pred.tolist()\n",
    "    y_true = y_list[index].tolist()\n",
    "    classes = [0,1]\n",
    "    if enable_prints == 1:\n",
    "        print(\"PR Report         : \\n\", classification_report(y_true, y_pred, labels=classes, zero_division=0))\n",
    "        print(\"Confusion Matrix  : \\n\", confusion_matrix(y_true, y_pred))\n",
    "        #print(\"\\nAccuracy        : \", accuracy_score(y_true, y_pred))\n",
    "    return accuracy_score(y_true, y_pred)\n",
    "\n",
    "df_list = [df]\n",
    "for index in range(0, len(x_list)):\n",
    "    print (\"\\naccuracy: \", getAccuracy(index,0))"
   ]
  },
  {
   "cell_type": "code",
   "execution_count": null,
   "id": "4470454f-bd73-4e4f-9600-d230566d4d0e",
   "metadata": {},
   "outputs": [],
   "source": []
  },
  {
   "cell_type": "code",
   "execution_count": null,
   "id": "32ff741e-2997-45e5-b23b-1ffd67d682af",
   "metadata": {},
   "outputs": [],
   "source": []
  },
  {
   "cell_type": "code",
   "execution_count": null,
   "id": "e0e709c4-bc6b-440c-8664-e2b6f15b9099",
   "metadata": {},
   "outputs": [],
   "source": []
  },
  {
   "cell_type": "code",
   "execution_count": null,
   "id": "7737856d-1941-401c-b37e-25ebf6f5173c",
   "metadata": {},
   "outputs": [],
   "source": []
  },
  {
   "cell_type": "code",
   "execution_count": null,
   "id": "c795ab4f-1595-4791-8fc7-f8d03c487499",
   "metadata": {},
   "outputs": [],
   "source": []
  },
  {
   "cell_type": "code",
   "execution_count": null,
   "id": "47fc6929-fabc-4ec4-a654-69c06c2a64f9",
   "metadata": {},
   "outputs": [],
   "source": []
  }
 ],
 "metadata": {
  "kernelspec": {
   "display_name": "Python 3 (ipykernel)",
   "language": "python",
   "name": "python3"
  },
  "language_info": {
   "codemirror_mode": {
    "name": "ipython",
    "version": 3
   },
   "file_extension": ".py",
   "mimetype": "text/x-python",
   "name": "python",
   "nbconvert_exporter": "python",
   "pygments_lexer": "ipython3",
   "version": "3.9.12"
  }
 },
 "nbformat": 4,
 "nbformat_minor": 5
}
