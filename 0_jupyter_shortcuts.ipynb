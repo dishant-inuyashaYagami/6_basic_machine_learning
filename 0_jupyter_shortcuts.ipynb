{
 "cells": [
  {
   "cell_type": "markdown",
   "id": "2e031631-f2df-41e7-b914-410e2f4bade9",
   "metadata": {},
   "source": [
    "## Jupyter Shortcuts"
   ]
  },
  {
   "cell_type": "markdown",
   "id": "6f6ded75-5af5-433e-be11-3d0d27023e28",
   "metadata": {},
   "source": [
    "##### For headings to be displayed; use \"Markdown\" mode instead of \"Code\" mode. (or shortcut: M (markdown) and Y (code))"
   ]
  },
  {
   "cell_type": "markdown",
   "id": "be278df9-eb68-4ab5-8f35-3cd507285d7b",
   "metadata": {},
   "source": [
    "##### Link to Jupyter Shortcuts: https://towardsdatascience.com/jypyter-notebook-shortcuts-bf0101a98330"
   ]
  },
  {
   "cell_type": "code",
   "execution_count": null,
   "id": "c7bfbe86-78ba-4193-bde5-82d308ddb846",
   "metadata": {},
   "outputs": [],
   "source": [
    "print (\"First Jupyter Notebook!\")\n",
    "print (\"Hide Output Shortcut: M+Y\")"
   ]
  }
 ],
 "metadata": {
  "kernelspec": {
   "display_name": "Python 3 (ipykernel)",
   "language": "python",
   "name": "python3"
  },
  "language_info": {
   "codemirror_mode": {
    "name": "ipython",
    "version": 3
   },
   "file_extension": ".py",
   "mimetype": "text/x-python",
   "name": "python",
   "nbconvert_exporter": "python",
   "pygments_lexer": "ipython3",
   "version": "3.9.12"
  }
 },
 "nbformat": 4,
 "nbformat_minor": 5
}
