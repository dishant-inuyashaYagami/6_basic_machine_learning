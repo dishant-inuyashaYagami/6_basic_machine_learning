{
 "cells": [
  {
   "cell_type": "markdown",
   "id": "63df294b-7dfd-4f68-9ea3-d8da848082d5",
   "metadata": {},
   "source": [
    "## ==========  PERCEPTRON CLASSIFICATION =============="
   ]
  },
  {
   "cell_type": "code",
   "execution_count": 1,
   "id": "5e91907a-4648-408e-a786-63fdcb3c66ac",
   "metadata": {},
   "outputs": [
    {
     "name": "stdout",
     "output_type": "stream",
     "text": [
      "minimization function\n"
     ]
    }
   ],
   "source": [
    "data_set           = 0           # there are two data sets [0,1]\n",
    "isLeastSquares     = 1           # if 0, then chooses the cross-entropy/log-likelyhood\n",
    "activationFunction = 'sigmoid'   # no other option for now\n",
    "\n",
    "# dataset dependent parameters\n",
    "seed_learning_rate = 0.01    \n",
    "max_iter           = 100000   \n",
    "scaling_factor     = 1           # there is trade-off between scaling_factor and learning_rate \n",
    "                                 # higher scaling factor better distinguish between good and bad points \n",
    "                                 # however, gradient vanishes for large values, due to which it requires larger learning rate\n",
    "minFn              = 1           # trypically all are minimization fns\n",
    "'''\n",
    "===== PLEASE BE VARY OF THE STARTING POINT ==========\n",
    "'''\n",
    "\n",
    "if data_set == 1:\n",
    "    seed_learning_rate = 0.01\n",
    "    scaling_factor     = 3           # since small distance; need to scale them higher for better distiction between good and bad\n",
    "    minFn              = 0           # maximization fn\n",
    "    if isLeastSquares == 0:\n",
    "        seed_learning_rate = 0.0001\n",
    "        scaling_factor     = 10\n",
    "else:\n",
    "    scaling_factor     = 0.1         # since large distances; need to scale them down for better distiction & better gradients\n",
    "    seed_learning_rate = 0.01\n",
    "    minFn              = 1\n",
    "    if isLeastSquares == 0:\n",
    "        seed_learning_rate = 0.002\n",
    "\n",
    "    \n",
    "if minFn == 1:\n",
    "    print (\"minimization function\")\n",
    "    direction          = 1           # move in negative direction\n",
    "else:\n",
    "    print (\"maximization function\")\n",
    "    direction          = -1         # reverse direction or move in positive direction \n"
   ]
  },
  {
   "cell_type": "markdown",
   "id": "9555aa83-223b-43b9-8223-212a9d5b0bfa",
   "metadata": {},
   "source": [
    "### Reading Input Dataset: 2D Attribytes & Class Labels"
   ]
  },
  {
   "cell_type": "code",
   "execution_count": 2,
   "id": "06708265-b6bd-4f8d-b08e-386746376077",
   "metadata": {},
   "outputs": [],
   "source": [
    "import csv\n",
    "import os"
   ]
  },
  {
   "cell_type": "code",
   "execution_count": 3,
   "id": "750a4a3c-a38d-4996-924a-a6bd8aec9137",
   "metadata": {},
   "outputs": [
    {
     "name": "stdout",
     "output_type": "stream",
     "text": [
      "fetching data from location: /Users/dishantgoyal/Desktop/ml/0_neural_network_classification/dataset_binary/x_attributes.dat . . .\n",
      "fetching data from location: /Users/dishantgoyal/Desktop/ml/0_neural_network_classification/dataset_binary/y_class_labels.dat . . .\n",
      "number of data points: 100\n"
     ]
    }
   ],
   "source": [
    "assert data_set == 1 or data_set == 0\n",
    "assert isLeastSquares == 1 or isLeastSquares == 0\n",
    "x1_attributes = []\n",
    "x2_attributes = []\n",
    "labels = []\n",
    "\n",
    "if data_set == 1:\n",
    "    __location__ = os.path.realpath(os.path.join(os.getcwd(), \"dataset_binary/x_attributes.csv\"))\n",
    "else:\n",
    "    __location__ = os.path.realpath(os.path.join(os.getcwd(), \"dataset_binary/x_attributes.dat\"))\n",
    "print (\"fetching data from location: \" + __location__ + \" . . .\")\n",
    "with open(__location__, 'r') as csvfile:   # Open the CSV file in read mode # Create a reader object\n",
    "  csv_reader = csv.reader(csvfile)\n",
    "  for row in csv_reader:  # Iterate through the rows in the CSV file\n",
    "    if data_set != 1:\n",
    "        row = row[0].split(\"  \")\n",
    "    x1_attributes.append(float(row[0]))     # row is a list containing two element\n",
    "    x2_attributes.append(float(row[1]))     # row is a list containing two element\n",
    "\n",
    "if data_set == 1:\n",
    "    __location__ = os.path.realpath(os.path.join(os.getcwd(), \"dataset_binary/y_class_labels.csv\"))\n",
    "else:\n",
    "    __location__ = os.path.realpath(os.path.join(os.getcwd(), \"dataset_binary/y_class_labels.dat\"))\n",
    "\n",
    "print (\"fetching data from location: \" + __location__ + \" . . .\")\n",
    "with open(__location__, 'r') as csvfile:   # Open the CSV file in read mode # Create a reader object\n",
    "  csv_reader = csv.reader(csvfile)\n",
    "  for row in csv_reader:  # Iterate through the rows in the CSV file\n",
    "        \n",
    "        if data_set == 1:\n",
    "            labels.append(float(row[0]))     # row is a list containing single element\n",
    "        else:\n",
    "            if row[0] == 'Alaska':\n",
    "                labels.append(1)\n",
    "            else:\n",
    "                labels.append(0)\n",
    "\n",
    "print (\"number of data points: \" + str(len(x1_attributes)))\n",
    "if len(x1_attributes) != len(labels) or len(x2_attributes) != len(labels):\n",
    "    print (\"ERROR! Input number of attributed does not match the number of class labels!\")\n",
    "    exit(0)"
   ]
  },
  {
   "cell_type": "markdown",
   "id": "e041de35-1f1b-4606-b855-4330dbeb8568",
   "metadata": {},
   "source": [
    "### Plotting Dataset"
   ]
  },
  {
   "cell_type": "code",
   "execution_count": 4,
   "id": "01ce508b-0818-47d4-9203-6b25adec69d7",
   "metadata": {},
   "outputs": [
    {
     "data": {
      "image/png": "[encoded data removed]",
      "text/plain": [
       "<Figure size 432x288 with 1 Axes>"
      ]
     },
     "metadata": {
      "needs_background": "light"
     },
     "output_type": "display_data"
    }
   ],
   "source": [
    "from matplotlib import pyplot as plt\n",
    "color = []\n",
    "for y in labels:\n",
    "    if y == 0:\n",
    "        color.append('red')\n",
    "    else:\n",
    "        color.append('blue')\n",
    "plt.scatter(x1_attributes, x2_attributes, c=color)\n",
    "plt.show()"
   ]
  },
  {
   "cell_type": "markdown",
   "id": "4d92c633-6648-4c2b-8c10-19a6526d4c1f",
   "metadata": {},
   "source": [
    "### Plot Initial Hypthesis\n",
    "\n",
    "##### starting point: line joining any two points, form: y = ax = b"
   ]
  },
  {
   "cell_type": "code",
   "execution_count": 5,
   "id": "0dbe105c-7c74-41f4-9190-38eeb4c81af7",
   "metadata": {},
   "outputs": [
    {
     "name": "stdout",
     "output_type": "stream",
     "text": [
      "passes through: (108.0, 368.0)  (131.0, 355.0)\n",
      "initial slope: 0.05652173913043478, initial intercept: 313.89565217391305\n"
     ]
    },
    {
     "data": {
      "image/png": "[encoded data removed]",
      "text/plain": [
       "<Figure size 432x288 with 1 Axes>"
      ]
     },
     "metadata": {
      "needs_background": "light"
     },
     "output_type": "display_data"
    }
   ],
   "source": [
    "slope     =  -0.1*(x2_attributes[1] - x2_attributes[0])/(x1_attributes[1] - x1_attributes[0])\n",
    "intercept =  x2_attributes[0] - x1_attributes[0]*slope\n",
    "display_pt1 = \"(\" + str(x1_attributes[0]) + \", \" + str(x2_attributes[0]) + \")\"\n",
    "display_pt2 = \"(\" + str(x1_attributes[1]) + \", \" + str(x2_attributes[1]) + \")\"\n",
    "print(\"passes through: \" + display_pt1 + \"  \" + display_pt2)\n",
    "plt.scatter(x1_attributes, x2_attributes, c=color)\n",
    "intercept = intercept + 2\n",
    "if data_set == 0:\n",
    "    intercept -= 50\n",
    "print(\"initial slope: \" + str(slope) + \", initial intercept: \" + str(intercept))\n",
    "plt.axline((3, 3*slope + intercept), slope=slope, linewidth=1, color='r')# or plt.plot([acidity[0],acidity[1]], [density[0],density[1]])\n",
    "plt.show()\n"
   ]
  },
  {
   "cell_type": "markdown",
   "id": "eedcfda9-6a8b-40d3-adf7-c547d8685146",
   "metadata": {},
   "source": [
    "### Error Function: Least Squares or Log-Likelyhood"
   ]
  },
  {
   "cell_type": "code",
   "execution_count": 6,
   "id": "675bc0fb-1dd5-4ec5-9d70-c8bdf038d93c",
   "metadata": {},
   "outputs": [],
   "source": [
    "import math\n",
    "e = math.e\n",
    "def computeSigmoid (distance, gz):\n",
    "    if    distance >= 10:                            # to avoid overflow errors\n",
    "                            gz[0] = 1\n",
    "    elif  distance <= -10:\n",
    "                            gz[0] = 0\n",
    "    else:\n",
    "                            gz[0] = 1/(1+pow(e, -1*distance))     # lies between 0 and 1"
   ]
  },
  {
   "cell_type": "code",
   "execution_count": 7,
   "id": "b6769827-053f-4571-ad8d-3b27cc9ad808",
   "metadata": {},
   "outputs": [],
   "source": [
    "def computeLeastSquares (class_label, gz, pt_error):\n",
    "    if class_label == 0:  \n",
    "        probability_class_0     = 1 - gz\n",
    "        pt_error[0]             = (1-probability_class_0)*(1-probability_class_0)     # least sqaures cost function\n",
    "    else:    \n",
    "        probability_class_1     = gz\n",
    "        pt_error[0]             = (1-probability_class_1)*(1-probability_class_1)\n",
    "        \n",
    "def computeCrossEntropy (class_label, gz, pt_error):\n",
    "    limit = 0.00000000001\n",
    "    if class_label == 0:  \n",
    "        probability_class_0     = 1 - gz\n",
    "        if probability_class_0 <= limit:\n",
    "            pt_error[0]             = -1*math.log(limit)\n",
    "        else:\n",
    "            pt_error[0]             = -1*math.log(probability_class_0)                              # log likehood\n",
    "    else:    \n",
    "        probability_class_1     = gz\n",
    "        if probability_class_1 <= limit:\n",
    "            pt_error[0]             = -1*math.log(limit)\n",
    "        else:\n",
    "            pt_error[0]             = -1*math.log(probability_class_1)"
   ]
  },
  {
   "cell_type": "code",
   "execution_count": 8,
   "id": "8e4beb77-843b-4383-9ccb-c365da61203d",
   "metadata": {},
   "outputs": [
    {
     "name": "stdout",
     "output_type": "stream",
     "text": [
      "initial error: 43.20100227871782\n"
     ]
    }
   ],
   "source": [
    "def comp_error(a, b, error):\n",
    "    for index in range(0, len(x1_attributes)):    # compute the full error\n",
    "        x1              = x1_attributes[index]\n",
    "        x2              = x2_attributes[index]\n",
    "        distance        = (x2 - a*x1 - b)*scaling_factor                   # z = Theta_Transpose.x \n",
    "        gz              = [0]\n",
    "        computeSigmoid (distance, gz)\n",
    "        \n",
    "        pt_error        = [0]                               \n",
    "        if isLeastSquares:\n",
    "            computeLeastSquares(labels[index], gz[0], pt_error)           # gz = probability of being in class 1\n",
    "        else:\n",
    "            computeCrossEntropy(labels[index], gz[0], pt_error)\n",
    "        \n",
    "        error[0] += pt_error[0]\n",
    "\n",
    "error = [0]\n",
    "comp_error(slope, intercept, error)\n",
    "print (\"initial error: \" + str(error[0]))"
   ]
  },
  {
   "cell_type": "markdown",
   "id": "2d7e25e3-ecae-444c-a523-1ed7d135a0ef",
   "metadata": {},
   "source": [
    "### Gradient Computation"
   ]
  },
  {
   "cell_type": "code",
   "execution_count": 9,
   "id": "97852dd8-ba51-4287-845f-1d40f4c18d37",
   "metadata": {},
   "outputs": [],
   "source": [
    "def computeGradientLeastSquares (index, gz, grad_val):\n",
    "    x1               = x1_attributes[index]\n",
    "    if labels[index] == 0:                                          \n",
    "        grad_val[0] += 2 * gz * gz * (1-gz) * -1 * x1 * scaling_factor           \n",
    "        grad_val[1] += 2 * gz * gz * (1-gz) * -1 * 1  * scaling_factor\n",
    "    else:                                                                         # gradient = 2(y - gz).-1.gz.(1-gz).(*)\n",
    "        grad_val[0] += 2 * (1-gz) * -1 * gz * (1-gz) * -1 * x1 * scaling_factor\n",
    "        grad_val[1] += 2 * (1-gz) * -1 * gz * (1-gz) * -1 * 1  * scaling_factor\n",
    "        \n",
    "\n",
    "def computeGradientLogLikelyhood (index, gz, grad_val):\n",
    "    x1               = x1_attributes[index]\n",
    "    if labels[index] == 0:                                               # gradient of -log(1-gz)   = -1/(1-gz)*-1\n",
    "        grad_val[0] += -1 * 1 * -1 * gz * -1 * x1 * scaling_factor       # 1/(1-gz) * (1-gz) = 1    \n",
    "        grad_val[1] += -1 * 1 * -1 * gz * -1 * 1  * scaling_factor\n",
    "        \n",
    "    else:                                                                # gradient of -log(gz)   = -1/gz\n",
    "                                                                         # 1/gz * gz = 1\n",
    "        grad_val[0] += -1 * 1 * (1-gz) * -1 * x1 * scaling_factor\n",
    "        grad_val[1] += -1 * 1 * (1-gz) * -1 * 1  * scaling_factor"
   ]
  },
  {
   "cell_type": "code",
   "execution_count": 10,
   "id": "75c60b36-8d68-4ae2-86c5-f38d31c3373f",
   "metadata": {},
   "outputs": [
    {
     "name": "stdout",
     "output_type": "stream",
     "text": [
      "initial gradient: [-39.441222857258495, -0.305581164205805]\n"
     ]
    }
   ],
   "source": [
    "def comp_grad(a, b, grad_val):\n",
    "    #grad_val        = [0,0]\n",
    "    for index in range(0, len(x1_attributes)):\n",
    "        x1              = x1_attributes[index]\n",
    "        x2              = x2_attributes[index]\n",
    "        distance        = (x2 - a*x1 - b)*scaling_factor          # z = Theta_Transpose.x\n",
    "        gz              = [0]\n",
    "        computeSigmoid (distance, gz)\n",
    "        probability     = gz[0]                                   # probability of being in class 1\n",
    "        \n",
    "        if isLeastSquares:\n",
    "            computeGradientLeastSquares   (index, gz[0] , grad_val)\n",
    "        else:\n",
    "            computeGradientLogLikelyhood  (index, gz[0] , grad_val)\n",
    "\n",
    "num_iter = 0\n",
    "grad_val = [0,0]\n",
    "comp_grad(slope, intercept, grad_val)\n",
    "print (\"initial gradient: \" + str(grad_val))"
   ]
  },
  {
   "cell_type": "markdown",
   "id": "a3f47191-33c0-42d3-86e7-b121fb9c0469",
   "metadata": {},
   "source": [
    "### Gradient Descent"
   ]
  },
  {
   "cell_type": "code",
   "execution_count": 11,
   "id": "6dedbae6-41c8-446e-a366-b79aff610124",
   "metadata": {},
   "outputs": [
    {
     "name": "stdout",
     "output_type": "stream",
     "text": [
      "error:     [43.20100227871782]\n",
      "error:     [7.771268984100127]\n",
      "error:     [7.746572212138221]\n",
      "error:     [7.727118999428164]\n",
      "error:     [7.710752100761098]\n",
      "error:     [7.696468047313321]\n",
      "error:     [7.683705869058619]\n",
      "error:     [7.672115279481579]\n",
      "error:     [7.661460637003745]\n",
      "error:     [7.65157467031515]\n",
      "best_error     :  7.642334627623801\n"
     ]
    }
   ],
   "source": [
    "\n",
    "flag = 0\n",
    "num_iter = 0\n",
    "best_slope     = slope\n",
    "best_intercept = intercept\n",
    "if minFn == 1:\n",
    "    best_error = 9999999\n",
    "else:\n",
    "    best_error = 0\n",
    "major_iter     = 0\n",
    "learning_rate  = seed_learning_rate\n",
    "\n",
    "while num_iter < max_iter:\n",
    "    error = [0]\n",
    "    comp_error(slope, intercept, error)\n",
    "    if (num_iter%10000 == 0):\n",
    "        print (\"error:     \" + str(error))\n",
    "        major_iter += 1\n",
    "        learning_rate = seed_learning_rate/math.sqrt(major_iter)        # adaptive learning rate\n",
    "        \n",
    "    grad_val  = [0,0]\n",
    "    comp_grad (slope, intercept, grad_val)                              # computing gradient\n",
    "    slope     = slope     - direction*learning_rate*grad_val[0];        # updating hypothesis\n",
    "    intercept = intercept - direction*learning_rate*grad_val[1];        # updating hypothesis\n",
    "    \n",
    "    if error[0] > best_error   and minFn != 1:\n",
    "        best_slope     = slope\n",
    "        best_intercept = intercept\n",
    "        best_error     = error[0]\n",
    "    elif error[0] < best_error and minFn == 1:\n",
    "        best_slope     = slope\n",
    "        best_intercept = intercept\n",
    "        best_error     = error[0]\n",
    "        \n",
    "    num_iter += 1\n",
    "    if isLeastSquares == 0:       # check for error if reduced or not # we cannot say since not convex\n",
    "        prev_error = error[0]\n",
    "        error      = [0]\n",
    "        comp_error(slope, intercept, error)\n",
    "        if ((minFn == 1 and error[0] > prev_error) or (minFn == 0 and error[0] < prev_error)):\n",
    "            direction = -1*direction\n",
    "            slope     = slope     - direction*learning_rate*grad_val[0];        # updating hypothesis\n",
    "            intercept = intercept - direction*learning_rate*grad_val[1];        # updating hypothesis\n",
    "    \n",
    "print (\"best_error     : \", best_error)"
   ]
  },
  {
   "cell_type": "code",
   "execution_count": null,
   "id": "a81fe7ac-9d4b-4773-a0b5-14db1db9ca54",
   "metadata": {},
   "outputs": [],
   "source": []
  },
  {
   "cell_type": "code",
   "execution_count": 12,
   "id": "4379fc9c-a267-452c-af9a-56461be98431",
   "metadata": {},
   "outputs": [
    {
     "data": {
      "image/png": "[encoded data removed]",
      "text/plain": [
       "<Figure size 432x288 with 1 Axes>"
      ]
     },
     "metadata": {
      "needs_background": "light"
     },
     "output_type": "display_data"
    }
   ],
   "source": [
    "plt.scatter(x1_attributes, x2_attributes, c=color)\n",
    "plt.axline((5, 5*best_slope + best_intercept), slope=best_slope, linewidth=1, color='r')# or plt.plot([acidity[0],acidity[1]], [density[0],density[1]])\n",
    "plt.show()"
   ]
  },
  {
   "cell_type": "code",
   "execution_count": null,
   "id": "c8e80ed3-fb56-4fb1-af77-a27ad56973ed",
   "metadata": {},
   "outputs": [],
   "source": []
  },
  {
   "cell_type": "code",
   "execution_count": null,
   "id": "5b0a261b-da02-4431-8c8b-0aeef5bf1c30",
   "metadata": {},
   "outputs": [],
   "source": []
  },
  {
   "cell_type": "code",
   "execution_count": null,
   "id": "f6bcc518-45c6-48ce-aa34-06dde2bab903",
   "metadata": {},
   "outputs": [],
   "source": []
  },
  {
   "cell_type": "markdown",
   "id": "ab930923-b038-438a-be9d-4326f24e21e7",
   "metadata": {},
   "source": [
    "### Why loglikelyhood could be problematic?\n",
    "\n",
    "### Therefore, we change direction when required"
   ]
  },
  {
   "cell_type": "code",
   "execution_count": 13,
   "id": "92a81be9-4c58-411d-ab70-e69d3bde8639",
   "metadata": {},
   "outputs": [],
   "source": [
    "if isLeastSquares == 0 and data_set == 1:\n",
    "    scaling_factor = 1\n",
    "    x1_attributes = [1,0]\n",
    "    x2_attributes = [0,1]\n",
    "    labels        = [1,0]\n",
    "    color         = ['blue', 'red']\n",
    "\n",
    "\n",
    "    slope = 1\n",
    "    intercept = 20\n",
    "    error = [0]\n",
    "    comp_error(slope, intercept, error)\n",
    "    print (\"initial error: \" + str(error[0]))\n",
    "    plt.scatter(x1_attributes, x2_attributes, c=color)\n",
    "    plt.axline((1, 1*slope + intercept), slope=slope, linewidth=1, color='r')# or plt.plot([acidity[0],acidity[1]], [density[0],density[1]])\n",
    "    plt.show()\n",
    "\n",
    "\n",
    "    slope = 1\n",
    "    intercept = 9\n",
    "    error = [0]\n",
    "    comp_error(slope, intercept, error)\n",
    "    print (\"initial error: \" + str(error[0]))\n",
    "    plt.scatter(x1_attributes, x2_attributes, c=color)\n",
    "    plt.axline((1, 1*slope + intercept), slope=slope, linewidth=1, color='r')# or plt.plot([acidity[0],acidity[1]], [density[0],density[1]])\n",
    "    plt.show()\n",
    "\n",
    "    slope = 1\n",
    "    intercept = 3\n",
    "    error = [0]\n",
    "    comp_error(slope, intercept, error)\n",
    "    print (\"initial error: \" + str(error[0]), \" increses\")\n",
    "    plt.scatter(x1_attributes, x2_attributes, c=color)\n",
    "    plt.axline((1, 1*slope + intercept), slope=slope, linewidth=1, color='r')# or plt.plot([acidity[0],acidity[1]], [density[0],density[1]])\n",
    "    plt.show()\n",
    "\n",
    "    slope = 1\n",
    "    intercept = 2\n",
    "    error = [0]\n",
    "    comp_error(slope, intercept, error)\n",
    "    print (\"initial error: \" + str(error[0]), \" decreses\")\n",
    "    plt.scatter(x1_attributes, x2_attributes, c=color)\n",
    "    plt.axline((1, 1*slope + intercept), slope=slope, linewidth=1, color='r')# or plt.plot([acidity[0],acidity[1]], [density[0],density[1]])\n",
    "    plt.show()\n",
    "\n",
    "    slope = 1\n",
    "    intercept = 0\n",
    "    error = [0]\n",
    "    comp_error(slope, intercept, error)\n",
    "    print (\"initial error: \" + str(error[0]), \" decreses\")\n",
    "    plt.scatter(x1_attributes, x2_attributes, c=color)\n",
    "    plt.axline((1, 1*slope + intercept), slope=slope, linewidth=1, color='r')# or plt.plot([acidity[0],acidity[1]], [density[0],density[1]])\n",
    "    plt.show()\n"
   ]
  },
  {
   "cell_type": "markdown",
   "id": "150bb855-1925-49ab-9c24-ea9a8c7aeb13",
   "metadata": {},
   "source": [
    "##### [GPT] The gradient provides guidance for small updates, not guarantees about large parameter changes."
   ]
  },
  {
   "cell_type": "code",
   "execution_count": null,
   "id": "87928e16-60f4-4bc8-a602-049654af14ba",
   "metadata": {},
   "outputs": [],
   "source": []
  }
 ],
 "metadata": {
  "kernelspec": {
   "display_name": "Python 3 (ipykernel)",
   "language": "python",
   "name": "python3"
  },
  "language_info": {
   "codemirror_mode": {
    "name": "ipython",
    "version": 3
   },
   "file_extension": ".py",
   "mimetype": "text/x-python",
   "name": "python",
   "nbconvert_exporter": "python",
   "pygments_lexer": "ipython3",
   "version": "3.9.12"
  }
 },
 "nbformat": 4,
 "nbformat_minor": 5
}
