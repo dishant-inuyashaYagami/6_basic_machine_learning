{
 "cells": [
  {
   "cell_type": "markdown",
   "id": "b912ee79-979d-4477-9d0a-3e6234b96968",
   "metadata": {},
   "source": [
    "## ============ SVMs (MultiClass Image Classification) =============="
   ]
  },
  {
   "cell_type": "markdown",
   "id": "17574d33-1728-4d5f-aaaa-f52cc1962639",
   "metadata": {},
   "source": [
    "#### SVM Read Link: https://www.cse.iitd.ac.in/~parags/teaching/2023/col774/supp_material/svm.pdf"
   ]
  },
  {
   "cell_type": "markdown",
   "id": "4520676d-7175-47d7-969e-3e74c1cd4e79",
   "metadata": {},
   "source": [
    "#### Intel Image Classification Dataset\n",
    "#### Classes: Class 0 (City), Class 1 (Forest), Class 2 (Ice Mountains), Class 3 (Mountains), Class 4 (Ocean), Class 5 (Streets)"
   ]
  },
  {
   "cell_type": "markdown",
   "id": "ca02da72-e9e8-4ca6-9c1c-08d4cd5b5288",
   "metadata": {},
   "source": [
    "### [Using Libsvm]\n",
    "##### Doc Link: https://www.csie.ntu.edu.tw/%7Ecjlin/libsvm/"
   ]
  },
  {
   "cell_type": "markdown",
   "id": "aa71808c-cc1d-43ab-a228-b34a52d119ae",
   "metadata": {},
   "source": [
    "### HyperParameters"
   ]
  },
  {
   "cell_type": "code",
   "execution_count": 1,
   "id": "c17f7229-f169-46a9-9076-fd161196f4c6",
   "metadata": {},
   "outputs": [
    {
     "data": {
      "text/plain": [
       "'\\nIMP POINT: Yes, the parameters of the hyperplane (like w) in the high-dimensional feature space must adhere to the relationships defined by the kernel function. The kernel governs both the structure of the feature space and the relationships among the hyperplane parameters.\\n'"
      ]
     },
     "execution_count": 1,
     "metadata": {},
     "output_type": "execute_result"
    }
   ],
   "source": [
    "'''\n",
    "IMP POINT: Yes, the parameters of the hyperplane (like w) in the high-dimensional feature space must adhere to the relationships defined by the kernel function. The kernel governs both the structure of the feature space and the relationships among the hyperplane parameters.\n",
    "'''"
   ]
  },
  {
   "cell_type": "code",
   "execution_count": 2,
   "id": "51e810ff-318b-400d-9aa6-cacdc0dd0bad",
   "metadata": {},
   "outputs": [
    {
     "data": {
      "text/plain": [
       "\"\\nSVM's cannot be used for multiclass other than using OvO or OvsAll binary classifiers\\n\""
      ]
     },
     "execution_count": 2,
     "metadata": {},
     "output_type": "execute_result"
    }
   ],
   "source": [
    "'''\n",
    "SVM's cannot be used for multiclass other than using OvO or OvsAll binary classifiers\n",
    "'''"
   ]
  },
  {
   "cell_type": "code",
   "execution_count": 3,
   "id": "5e11faed-2703-4772-9b23-981d67652988",
   "metadata": {},
   "outputs": [],
   "source": [
    "#####################################    CLASS DEFN    #####################\n",
    "#classes               = [0,1]\n",
    "#classes               = [2,3]\n",
    "#classes               = [0,1,2]\n",
    "classes               = [0,1,2,3,4,5]\n",
    "num_classes           = len(classes)\n",
    "max_num_classes       = 6\n",
    "\n",
    "#####################################    HYPERPARAMETERS    #####################\n",
    "resize_dim            = 16\n",
    "use_normalization     = 1\n",
    "#error_factor_C       = 1         # we will use default value\n",
    "use_gaussian_kernel   = 0         # if = 0; then uses linear kernel\n",
    "#gauss_scaling_factor = 0.001     # we will use default value \n",
    "\n",
    "#####################################    ACCURACY DATA    #######################\n",
    "# BINARY: [0,1] \n",
    "# use_gaussian_kernel = 0\n",
    "# resize_dim = 16                  accuracy (train, valid):   0.90  0.84\n",
    "# resize_dim = 32                  accuracy (train, valid):   0.97  0.78   \n",
    "# use_gaussian_kernel = 1\n",
    "# resize_dim = 16                  accuracy (train, valid):   0.89  0.85\n",
    "# resize_dim = 32                  accuracy (train, valid):   0.89  0.85   \n",
    "\n",
    "# MULTICLASS: [0,1, 2] \n",
    "# use_gaussian_kernel = 0\n",
    "# resize_dim = 16                  accuracy (train, valid):   0.83  0.74  \n",
    "# use_gaussian_kernel = 1\n",
    "# resize_dim = 16                  accuracy (train, valid):   0.79  0.76    --------->  Improved Here With Gaussian\n",
    "\n",
    "# MULTICLASS: [0,1, 2, 3, 4, 5] \n",
    "# use_gaussian_kernel = 0\n",
    "# resize_dim = 16                  accuracy (train, valid):   0.62  0.53\n",
    "# use_gaussian_kernel = 1\n",
    "# resize_dim = 16                  accuracy (train, valid):   0.57  0.56    --------->  Improved Here With Gaussian   \n",
    "\n",
    "enable_debug_prints = 0\n",
    "flatten_dim       = resize_dim*resize_dim*3 \n",
    "assert (use_gaussian_kernel == 0 or use_gaussian_kernel == 1)"
   ]
  },
  {
   "cell_type": "markdown",
   "id": "65835398-6fef-4f5a-95ea-86924dd51b62",
   "metadata": {},
   "source": [
    "### Testing Data Before and After Resizing"
   ]
  },
  {
   "cell_type": "code",
   "execution_count": null,
   "id": "31235082-f08c-4225-9105-2083c7b5de1b",
   "metadata": {},
   "outputs": [],
   "source": [
    "import matplotlib.pyplot as plt\n",
    "import matplotlib.image as mpimg\n",
    "\n",
    "img=mpimg.imread('dataset_image/train/0/10006.jpg')\n",
    "plt.axis('off')  # Turn off the axis\n",
    "imgplot = plt.imshow(img)"
   ]
  },
  {
   "cell_type": "code",
   "execution_count": null,
   "id": "920df11a-070c-43bb-9fce-8d33ccc9575f",
   "metadata": {},
   "outputs": [],
   "source": [
    "img=mpimg.imread('dataset_image/train/1/10010.jpg')\n",
    "plt.axis('off')  # Turn off the axis\n",
    "imgplot = plt.imshow(img)"
   ]
  },
  {
   "cell_type": "code",
   "execution_count": null,
   "id": "0a2b91d2-f1a0-4829-a8de-4a22bdf4d7d2",
   "metadata": {},
   "outputs": [],
   "source": [
    "img=mpimg.imread('dataset_image/train/2/100.jpg')\n",
    "plt.axis('off')  # Turn off the axis\n",
    "imgplot = plt.imshow(img)"
   ]
  },
  {
   "cell_type": "code",
   "execution_count": null,
   "id": "cc1ed219-2e8f-4c6e-ae28-9a1232d9ff29",
   "metadata": {},
   "outputs": [],
   "source": [
    "img=mpimg.imread('dataset_image/train/3/10000.jpg')\n",
    "plt.axis('off')  # Turn off the axis\n",
    "imgplot = plt.imshow(img)"
   ]
  },
  {
   "cell_type": "code",
   "execution_count": null,
   "id": "f71ba4c4-fa23-4ab3-9476-29eb4f53c2e9",
   "metadata": {},
   "outputs": [],
   "source": [
    "img=mpimg.imread('dataset_image/train/4/10016.jpg')\n",
    "plt.axis('off')  # Turn off the axis\n",
    "imgplot = plt.imshow(img)"
   ]
  },
  {
   "cell_type": "code",
   "execution_count": null,
   "id": "af13ee39-45ad-4fc8-90c9-1bf8e5c86c85",
   "metadata": {},
   "outputs": [],
   "source": [
    "img=mpimg.imread('dataset_image/train/5/10070.jpg')\n",
    "plt.axis('off')  # Turn off the axis\n",
    "imgplot = plt.imshow(img)"
   ]
  },
  {
   "cell_type": "code",
   "execution_count": null,
   "id": "799e3d46-cb8a-431e-a8ea-8c101b67fdca",
   "metadata": {},
   "outputs": [],
   "source": [
    "from PIL import Image\n",
    "img = Image.open(\"dataset_image/train/1/14621.jpg\")\n",
    "resized_img = img.resize((resize_dim, resize_dim), Image.Resampling.LANCZOS)    # take average of rgb in neighborhood\n",
    "plt.axis('off')  # Turn off the axis\n",
    "imgplot = plt.imshow(resized_img)"
   ]
  },
  {
   "cell_type": "markdown",
   "id": "c8c1a42d-0a39-4c70-a982-4dce8887593d",
   "metadata": {},
   "source": [
    "### Flatten and Unflatten Array"
   ]
  },
  {
   "cell_type": "code",
   "execution_count": null,
   "id": "1abcad1d-23ea-42c6-8d5c-d5dbe0766a24",
   "metadata": {},
   "outputs": [],
   "source": [
    "import numpy as np                \n",
    "np_array = np.asarray(resized_img, dtype=\"int32\")\n",
    "#print (np_array)\n",
    "flat_array = np_array.flatten()\n",
    "#print (flat_array)"
   ]
  },
  {
   "cell_type": "code",
   "execution_count": null,
   "id": "fe6a6d3e-a3b9-4e82-931b-644acd241771",
   "metadata": {},
   "outputs": [],
   "source": [
    "unflat_array = np.reshape(np.uint32(flat_array), (resize_dim, resize_dim, 3))\n",
    "plt.axis('off')  # Turn off the axis\n",
    "imgplot = plt.imshow(unflat_array)"
   ]
  },
  {
   "cell_type": "code",
   "execution_count": null,
   "id": "2ec9e7d8-7c2c-4ada-8d4d-cfc26b0b98ac",
   "metadata": {},
   "outputs": [],
   "source": []
  },
  {
   "cell_type": "code",
   "execution_count": null,
   "id": "5f970fc4-a59f-4711-aef1-0ae963e191c9",
   "metadata": {},
   "outputs": [],
   "source": []
  },
  {
   "cell_type": "markdown",
   "id": "17bb16bc-8ee5-4e29-b455-7d6692cc7ed1",
   "metadata": {},
   "source": [
    "### Loading and Normalizing Training Data: (Classes: 0 to 5)"
   ]
  },
  {
   "cell_type": "code",
   "execution_count": null,
   "id": "f7c9a26c-c81c-48e1-a989-f40a133b7648",
   "metadata": {},
   "outputs": [],
   "source": [
    "import os\n",
    "\n",
    "def load_image(infilename):\n",
    "    img = Image.open(infilename)\n",
    "    img.load()\n",
    "    resized_img = img.resize((resize_dim, resize_dim), Image.Resampling.LANCZOS)    # take average of rgb in neighborhood\n",
    "    np_array    = np.asarray(resized_img, dtype=\"int32\")\n",
    "    flat_array  = np_array.flatten()\n",
    "    flat_array  = np.reshape(flat_array, (1, len(flat_array)))\n",
    "    return flat_array\n",
    "\n",
    "num_train_samples = [0,0,0,0,0,0]       # ith entry stores the number of train sample in class i\n",
    "num_valid_samples = [0,0,0,0,0,0]       # ith entry stores the number of valid sample in class i\n",
    "index_train_class = [0,0,0,0,0,0]       # ith entry stores the starting index of class i in train np array \n",
    "index_valid_class = [0,0,0,0,0,0]       # ith entry stores the starting index of class i in valid np array\n",
    "index = 0\n",
    "x_train     = np.empty([0, resize_dim*resize_dim*3], dtype=\"int32\")\n",
    "for label in classes:\n",
    "    index_train_class[label] = index\n",
    "    dir_path_name = \"dataset_image/train/\" + str(label) + \"/\"\n",
    "    for filename in os.listdir(dir_path_name):\n",
    "        if filename.endswith(\".jpg\"): \n",
    "            #print (filename)\n",
    "            filepath   = os.path.join(dir_path_name, filename)\n",
    "            newrow     = load_image(filepath)\n",
    "            x_train    = np.vstack([x_train, newrow])\n",
    "            num_train_samples[label] += 1\n",
    "            index += 1\n",
    "\n",
    "index = 0\n",
    "x_valid = np.empty([0, resize_dim*resize_dim*3], dtype=\"int32\")\n",
    "for label in classes:\n",
    "    index_valid_class[label] = index\n",
    "    dir_path_name = \"dataset_image/val/\" + str(label) + \"/\"\n",
    "    for filename in os.listdir(dir_path_name):\n",
    "        if filename.endswith(\".jpg\"): \n",
    "            #print (filename)\n",
    "            filepath   = os.path.join(dir_path_name, filename)\n",
    "            newrow     = load_image(filepath)\n",
    "            x_valid    = np.vstack([x_valid, newrow])\n",
    "            num_valid_samples[label] += 1\n",
    "            index += 1"
   ]
  },
  {
   "cell_type": "code",
   "execution_count": null,
   "id": "d2807334-fcd5-417e-b71f-e9697907c91c",
   "metadata": {},
   "outputs": [],
   "source": [
    "print (\"number of training   samples: \", len(x_train))\n",
    "print (\"number of validation samples: \", len(x_valid))\n",
    "#print (x_train_1[1])"
   ]
  },
  {
   "cell_type": "code",
   "execution_count": null,
   "id": "376b8c55-f2e3-4739-b74e-ccdcda604bac",
   "metadata": {},
   "outputs": [],
   "source": [
    "if use_normalization == 1:\n",
    "    x_train = x_train/255\n",
    "    x_valid = x_valid/255\n",
    "#print (x_train_1[1])"
   ]
  },
  {
   "cell_type": "code",
   "execution_count": null,
   "id": "9e40740e-0d62-4ac6-b35c-1a483701f8f2",
   "metadata": {},
   "outputs": [],
   "source": []
  },
  {
   "cell_type": "code",
   "execution_count": null,
   "id": "81fe2e47-d968-4569-a7bb-efe10098e115",
   "metadata": {},
   "outputs": [],
   "source": []
  },
  {
   "cell_type": "markdown",
   "id": "7763acff-e1e4-4656-9033-a243e6e5969f",
   "metadata": {},
   "source": [
    "### Libsvm"
   ]
  },
  {
   "cell_type": "code",
   "execution_count": null,
   "id": "b2974269-fc95-49b9-8fa7-3bbf5de9489a",
   "metadata": {},
   "outputs": [],
   "source": [
    "from libsvm.svmutil import *\n",
    "\n",
    "model = [[None] * max_num_classes for _ in range(max_num_classes)]\n",
    "\n",
    "cnt_num_classifiers = 0\n",
    "for class_0 in classes:\n",
    "    for class_1 in classes:\n",
    "        if (class_1 <= class_0):\n",
    "            continue\n",
    "        \n",
    "        class_0_start_index  = index_train_class[class_0]\n",
    "        class_0_end_index    = class_0_start_index + num_train_samples[class_0]\n",
    "        class_1_start_index  = index_train_class[class_1]\n",
    "        class_1_end_index    = class_1_start_index + num_train_samples[class_1]\n",
    "        x_train_0            = x_train[class_0_start_index:class_0_end_index]\n",
    "        x_train_1            = x_train[class_1_start_index:class_1_end_index]\n",
    "        x_temp               = np.concatenate((x_train_0, x_train_1), axis=0)\n",
    "        \n",
    "        x_train_dict = [{i+1: val for i, val in enumerate(row)} for row in x_temp]     # convert to dictionary\n",
    "        y_train_list = [class_0]*num_train_samples[class_0] + [class_1]*num_train_samples[class_1]\n",
    "        \n",
    "        # -g gauss_scaling_factor  and  -c error_factor_C\n",
    "        if use_gaussian_kernel == 1:\n",
    "            model[class_0][class_1] = svm_train(y_train_list, x_train_dict, '-t 2')  # -t 2 specifies gaussian kernel\n",
    "        else:\n",
    "            model[class_0][class_1] = svm_train(y_train_list, x_train_dict, '-t 0')  # -t 0 specifies linear kernel\n",
    "        \n",
    "        print (\"SOLVED LP: \", cnt_num_classifiers)\n",
    "        cnt_num_classifiers += 1"
   ]
  },
  {
   "cell_type": "code",
   "execution_count": null,
   "id": "3fc015a7-524f-42b0-a0c3-b7c313e83961",
   "metadata": {},
   "outputs": [],
   "source": [
    "if enable_debug_prints == 1:\n",
    "    # Get dual coefficients (alpha * y) \n",
    "    coefficients = model[0][1].get_sv_coef()\n",
    "    #print(\"Dual Coefficients:\", coefficients)\n",
    "    filt = []\n",
    "    for item in coefficients:\n",
    "        if item != (1.0,):\n",
    "            filt.append(item)\n",
    "    print (len(filt))\n",
    "    \n",
    "    # Get the bias (rho)\n",
    "    bias = model[0][1].rho.contents.value\n",
    "    print(\"Bias (rho):\", bias)"
   ]
  },
  {
   "cell_type": "code",
   "execution_count": null,
   "id": "571ed2fc-7ee1-427b-baa2-e945d8140c3f",
   "metadata": {},
   "outputs": [],
   "source": [
    "def pred_binary(matrix, class_0, class_1):                  # binary prediction\n",
    "    pred_ary  = np.empty(len(matrix), dtype=\"int32\")\n",
    "    x_dict = [{i+1: val for i, val in enumerate(row)} for row in matrix]\n",
    "    assert (class_0 < class_1)\n",
    "    p_label, _, _ = svm_predict([0]*len(x_dict), x_dict, model[class_0][class_1], options='-q')   # [0]*len(x_dict) is a dummy placeholder\n",
    "    return np.array(p_label, dtype=\"int32\")\n",
    "\n",
    "                     \n",
    "def pred(matrix):                                           # predict based on maximum votes among one-to-one classifiers        \n",
    "    pred_ary  = np.empty([0, len(matrix)], dtype=\"int32\")\n",
    "    for class_0 in classes:\n",
    "        for class_1 in classes:\n",
    "            if (class_1 <= class_0):\n",
    "                continue\n",
    "            bin_pred     =  pred_binary(matrix, class_0, class_1)\n",
    "            pred_ary     =  np.vstack([pred_ary, bin_pred])\n",
    "            \n",
    "    pred_ary = np.transpose(pred_ary)\n",
    "    max_vote_ary  = np.empty(len(matrix), dtype=\"int32\")\n",
    "    for index in range(0, len(max_vote_ary)):\n",
    "        counts              = np.bincount(pred_ary[index])\n",
    "        max_vote_ary[index] = np.argmax(counts)\n",
    "    return max_vote_ary"
   ]
  },
  {
   "cell_type": "code",
   "execution_count": null,
   "id": "1e1e03b4-8aae-43c0-849c-70bc763a2464",
   "metadata": {},
   "outputs": [],
   "source": []
  },
  {
   "cell_type": "code",
   "execution_count": null,
   "id": "0da3b742-633d-4764-9848-51cd6bfb68b5",
   "metadata": {},
   "outputs": [],
   "source": []
  },
  {
   "cell_type": "markdown",
   "id": "4e8d263b-ec1d-4623-a067-16be2b262e21",
   "metadata": {},
   "source": [
    "### Train and Validation Prediction"
   ]
  },
  {
   "cell_type": "code",
   "execution_count": null,
   "id": "d0a84c20-f6fa-47a1-bcc4-dd26841f3626",
   "metadata": {},
   "outputs": [],
   "source": [
    "from sklearn.metrics import classification_report, confusion_matrix, accuracy_score\n",
    "\n",
    "y_train_true = []\n",
    "for label in classes:\n",
    "    y_train_true  +=   [label]*num_train_samples[label]\n",
    "\n",
    "y_train_pred  = pred(x_train)\n",
    "print(\"PR Report         : \\n\", classification_report(y_train_true, y_train_pred, labels=classes, zero_division=0))\n",
    "print(\"Confusion Matrix  : \\n\", confusion_matrix(y_train_true, y_train_pred))\n",
    "print(\"\\nTraining Accuracy        : \", accuracy_score(y_train_true, y_train_pred), \"\\n\")\n",
    "\n",
    "y_valid_true = []\n",
    "for label in classes:\n",
    "    y_valid_true  +=   [label]*num_valid_samples[label]\n",
    "\n",
    "y_valid_pred  = pred(x_valid)\n",
    "print(\"PR Report         : \\n\", classification_report(y_valid_true, y_valid_pred, labels=classes, zero_division=0))\n",
    "print(\"Confusion Matrix  : \\n\", confusion_matrix(y_valid_true, y_valid_pred))\n",
    "print(\"\\nValidation Accuracy        : \", accuracy_score(y_valid_true, y_valid_pred), \"\\n\")"
   ]
  },
  {
   "cell_type": "code",
   "execution_count": null,
   "id": "85e2f66a-e3f8-484d-85bd-efd2b76161dc",
   "metadata": {},
   "outputs": [],
   "source": []
  },
  {
   "cell_type": "code",
   "execution_count": null,
   "id": "add3ea55-1636-4fbb-8af8-0b045c346ca7",
   "metadata": {},
   "outputs": [],
   "source": []
  }
 ],
 "metadata": {
  "kernelspec": {
   "display_name": "Python 3 (ipykernel)",
   "language": "python",
   "name": "python3"
  },
  "language_info": {
   "codemirror_mode": {
    "name": "ipython",
    "version": 3
   },
   "file_extension": ".py",
   "mimetype": "text/x-python",
   "name": "python",
   "nbconvert_exporter": "python",
   "pygments_lexer": "ipython3",
   "version": "3.9.12"
  }
 },
 "nbformat": 4,
 "nbformat_minor": 5
}
