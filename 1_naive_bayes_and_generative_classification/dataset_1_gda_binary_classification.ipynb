{
 "cells": [
  {
   "cell_type": "markdown",
   "id": "50c72cde-de06-4bfa-87b1-d6e3101b5cd5",
   "metadata": {},
   "source": [
    "## ======  GDA: DATA SET 1 =========="
   ]
  },
  {
   "cell_type": "markdown",
   "id": "4d64b216-ac94-409f-91ac-6f41d3e07182",
   "metadata": {},
   "source": [
    "### Reading Input Dataset: 2D Attribytes & Class Labels"
   ]
  },
  {
   "cell_type": "code",
   "execution_count": 1,
   "id": "06708265-b6bd-4f8d-b08e-386746376077",
   "metadata": {},
   "outputs": [],
   "source": [
    "import csv\n",
    "import os"
   ]
  },
  {
   "cell_type": "code",
   "execution_count": 2,
   "id": "750a4a3c-a38d-4996-924a-a6bd8aec9137",
   "metadata": {},
   "outputs": [
    {
     "name": "stdout",
     "output_type": "stream",
     "text": [
      "fetching data from location: /Users/dishantgoyal/Desktop/ml/1_gda_classification/dataset_binary/x_attributes.csv . . .\n",
      "fetching data from location: /Users/dishantgoyal/Desktop/ml/1_gda_classification/dataset_binary/y_class_labels.csv . . .\n",
      "number of data points: 100\n"
     ]
    }
   ],
   "source": [
    "x1_attributes = []\n",
    "x2_attributes = []\n",
    "labels = []\n",
    "__location__ = os.path.realpath(os.path.join(os.getcwd(), \"dataset_binary/x_attributes.csv\"))\n",
    "print (\"fetching data from location: \" + __location__ + \" . . .\")\n",
    "with open(__location__, 'r') as csvfile:   # Open the CSV file in read mode # Create a reader object\n",
    "  csv_reader = csv.reader(csvfile)\n",
    "  for row in csv_reader:  # Iterate through the rows in the CSV file\n",
    "    x1_attributes.append(float(row[0]))     # row is a list containing two element\n",
    "    x2_attributes.append(float(row[1]))     # row is a list containing two element\n",
    "\n",
    "__location__ = os.path.realpath(os.path.join(os.getcwd(), \"dataset_binary/y_class_labels.csv\"))\n",
    "print (\"fetching data from location: \" + __location__ + \" . . .\")\n",
    "with open(__location__, 'r') as csvfile:   # Open the CSV file in read mode # Create a reader object\n",
    "  csv_reader = csv.reader(csvfile)\n",
    "  for row in csv_reader:  # Iterate through the rows in the CSV file\n",
    "      labels.append(float(row[0]))     # row is a list containing single element\n",
    "\n",
    "print (\"number of data points: \" + str(len(x1_attributes)))\n",
    "if len(x1_attributes) != len(labels) or len(x2_attributes) != len(labels):\n",
    "    print (\"ERROR! Input number of attributed does not match the number of class labels!\")\n",
    "    exit(0)"
   ]
  },
  {
   "cell_type": "markdown",
   "id": "e041de35-1f1b-4606-b855-4330dbeb8568",
   "metadata": {},
   "source": [
    "### Plotting Dataset"
   ]
  },
  {
   "cell_type": "code",
   "execution_count": 3,
   "id": "01ce508b-0818-47d4-9203-6b25adec69d7",
   "metadata": {},
   "outputs": [
    {
     "data": {
      "image/png": "[encoded data removed]",
      "text/plain": [
       "<Figure size 432x288 with 1 Axes>"
      ]
     },
     "metadata": {
      "needs_background": "light"
     },
     "output_type": "display_data"
    }
   ],
   "source": [
    "from matplotlib import pyplot as plt\n",
    "color = []\n",
    "for y in labels:\n",
    "    if y == 0:\n",
    "        color.append('red')\n",
    "    else:\n",
    "        color.append('blue')\n",
    "plt.scatter(x1_attributes, x2_attributes, c=color)\n",
    "plt.show()"
   ]
  },
  {
   "cell_type": "markdown",
   "id": "4d92c633-6648-4c2b-8c10-19a6526d4c1f",
   "metadata": {},
   "source": [
    "### Compute Mean Vector and Covariance Matrix for Each Class"
   ]
  },
  {
   "cell_type": "code",
   "execution_count": 4,
   "id": "e3039e1b-4b8b-4646-8463-f28b6e434bc4",
   "metadata": {},
   "outputs": [
    {
     "name": "stdout",
     "output_type": "stream",
     "text": [
      "mean of class 1:  [3.726092, 5.469638]\n",
      "mean of class 2:  [5.511342, 3.576098]\n"
     ]
    }
   ],
   "source": [
    "import statistics\n",
    "\n",
    "class1_x1 = []\n",
    "class1_x2 = []\n",
    "\n",
    "class2_x1 = []\n",
    "class2_x2 = []\n",
    "\n",
    "for index in range(0, len(x1_attributes)):\n",
    "    if labels[index] == 0:\n",
    "        class1_x1.append(x1_attributes[index])\n",
    "        class1_x2.append(x2_attributes[index])\n",
    "    else:\n",
    "        class2_x1.append(x1_attributes[index])\n",
    "        class2_x2.append(x2_attributes[index])\n",
    "        \n",
    "mean_class1 = [0,0]\n",
    "mean_class2 = [0,0]\n",
    "mean_class1[0] = statistics.mean(class1_x1)\n",
    "mean_class1[1] = statistics.mean(class1_x2)\n",
    "mean_class2[0] = statistics.mean(class2_x1)\n",
    "mean_class2[1] = statistics.mean(class2_x2)\n",
    "print(\"mean of class 1: \", mean_class1)\n",
    "print(\"mean of class 2: \", mean_class2)"
   ]
  },
  {
   "cell_type": "code",
   "execution_count": 5,
   "id": "af65e0e3-9ab6-4f79-a0e5-9402688e1a95",
   "metadata": {},
   "outputs": [
    {
     "name": "stdout",
     "output_type": "stream",
     "text": [
      "\n",
      "Covariance Matrix of Class 1: \n",
      " [[0.75546855 0.03837107]\n",
      " [0.03837107 0.88886917]]\n",
      "\n",
      "Covariance Matrix of Class 2: \n",
      " [[ 1.1301124  -0.16246727]\n",
      " [-0.16246727  1.1668426 ]]\n",
      "\n",
      "Common Covariance Matrix of Both Classes: \n",
      " [[ 0.9427905 -0.0620481]\n",
      " [-0.0620481  1.0278559]]\n"
     ]
    }
   ],
   "source": [
    "import numpy as np\n",
    "\n",
    "common_cov_matrix = np.array([[0,0],[0,0]], dtype='float32')\n",
    "\n",
    "cov_class_1 = np.array([[0,0],[0,0]], dtype='float32')\n",
    "mean_1_vector = np.array([[mean_class1[0], mean_class1[1]]],     dtype='float32')\n",
    "for index in range(0, len(class1_x1)):\n",
    "    vector        = np.array([[class1_x1[index], class1_x2[index]]], dtype='float32')\n",
    "    diff_vector = vector - mean_1_vector\n",
    "    cov_class_1 += np.matmul(diff_vector.transpose(), diff_vector)\n",
    "common_cov_matrix += cov_class_1\n",
    "cov_class_1 = cov_class_1/len(class1_x1)\n",
    "\n",
    "print (\"\\nCovariance Matrix of Class 1: \\n\", cov_class_1)\n",
    "\n",
    "cov_class_2 = np.array([[0,0],[0,0]], dtype='float32')\n",
    "mean_2_vector = np.array([[mean_class2[0], mean_class2[1]]],     dtype='float32')\n",
    "for index in range(0, len(class2_x1)):\n",
    "    vector        = np.array([[class2_x1[index], class2_x2[index]]], dtype='float32')\n",
    "    diff_vector = vector - mean_2_vector\n",
    "    cov_class_2 += np.matmul(diff_vector.transpose(), diff_vector)\n",
    "common_cov_matrix += cov_class_2\n",
    "cov_class_2 = cov_class_2/len(class2_x1)\n",
    "\n",
    "print (\"\\nCovariance Matrix of Class 2: \\n\", cov_class_2)\n",
    "\n",
    "common_cov_matrix = common_cov_matrix/len(x1_attributes)\n",
    "print (\"\\nCommon Covariance Matrix of Both Classes: \\n\", common_cov_matrix)"
   ]
  },
  {
   "cell_type": "markdown",
   "id": "43ac6eba-a5c5-4fca-b23d-e036f67714fa",
   "metadata": {},
   "source": [
    "### Compute The Boundary Assuming The Same Covariance Matrix"
   ]
  },
  {
   "cell_type": "code",
   "execution_count": 6,
   "id": "feddb76b-4d62-49c4-8bcb-08d82e35cd75",
   "metadata": {},
   "outputs": [],
   "source": [
    "import math\n",
    "\n",
    "rhs = 2*math.log(len(class2_x1)/len(class2_x1))     # 2.log((1-p)/p)\n",
    "\n",
    "common_cov_inv = np.linalg.inv(common_cov_matrix)\n",
    "\n",
    "###### CLASS 1 COMPUTATIONS ###############\n",
    "matrix_mul_mean_1   = np.matmul(common_cov_inv, mean_1_vector.transpose())\n",
    "mean_1_mul_matrix   = np.matmul(mean_1_vector,  common_cov_inv)\n",
    "scalar_term_class_1 = np.matmul(mean_1_vector,  matrix_mul_mean_1)\n",
    "\n",
    "###### CLASS 2 COMPUTATIONS ###############\n",
    "matrix_mul_mean_2   = np.matmul(common_cov_inv, mean_2_vector.transpose())\n",
    "mean_2_mul_matrix   = np.matmul(mean_2_vector,  common_cov_inv)\n",
    "scalar_term_class_2 = np.matmul(mean_2_vector,  matrix_mul_mean_2)\n",
    "\n",
    "###### COMBINED EQUATION ##################\n",
    "parameters  = matrix_mul_mean_1    +  mean_1_mul_matrix.transpose()  -  matrix_mul_mean_2 - mean_2_mul_matrix.transpose()\n",
    "scalar_term = scalar_term_class_2  -  scalar_term_class_1            -  rhs\n"
   ]
  },
  {
   "cell_type": "code",
   "execution_count": 7,
   "id": "09526175-982b-4dfa-9aa5-cb3278be1549",
   "metadata": {},
   "outputs": [
    {
     "data": {
      "image/png": "[encoded data removed]",
      "text/plain": [
       "<Figure size 432x288 with 1 Axes>"
      ]
     },
     "metadata": {
      "needs_background": "light"
     },
     "output_type": "display_data"
    }
   ],
   "source": [
    "slope      = -1*parameters[0][0]/parameters[1][0]\n",
    "intercept  = -1*scalar_term[0][0]/parameters[1][0]\n",
    "plt.scatter(x1_attributes, x2_attributes, c=color)\n",
    "plt.axline((0, intercept), slope=slope, linewidth=1, color='r')# or plt.plot([acidity[0],acidity[1]], [density[0],density[1]])\n",
    "plt.show()"
   ]
  },
  {
   "cell_type": "code",
   "execution_count": null,
   "id": "5af66901-015a-479b-b590-c64163bec5c3",
   "metadata": {},
   "outputs": [],
   "source": []
  },
  {
   "cell_type": "code",
   "execution_count": null,
   "id": "7b3ea50f-5cca-4f65-960c-a41d8541fc58",
   "metadata": {},
   "outputs": [],
   "source": []
  },
  {
   "cell_type": "markdown",
   "id": "fbd1027a-a067-4eb6-8614-17220f3db5a6",
   "metadata": {},
   "source": [
    "### Compute The Boundary Assuming Different Covariance Matrices"
   ]
  },
  {
   "cell_type": "code",
   "execution_count": 8,
   "id": "3ddee310-5ec9-4384-8fc0-6671c939a1f3",
   "metadata": {},
   "outputs": [],
   "source": [
    "import math\n",
    "\n",
    "############# 2.(log((1-p)/p) + log(|Cov1|/|Cov2|) ############\n",
    "cov_det_1 = np.linalg.det(cov_class_1)\n",
    "cov_det_2 = np.linalg.det(cov_class_2)\n",
    "rhs = 2*(math.log(len(class2_x1)/len(class2_x1)) + math.log(cov_det_1/cov_det_2))     \n",
    "\n",
    "cov_class_1_inv  = np.linalg.inv(cov_class_1)\n",
    "cov_class_2_inv  = np.linalg.inv(cov_class_2)\n",
    "\n",
    "###### CLASS 1 COMPUTATIONS ###############\n",
    "matrix_mul_mean_1   = np.matmul(cov_class_1_inv,  mean_1_vector.transpose())\n",
    "mean_1_mul_matrix   = np.matmul(mean_1_vector,    cov_class_1_inv)\n",
    "scalar_term_class_1 = np.matmul(mean_1_vector,    matrix_mul_mean_1)\n",
    "\n",
    "###### CLASS 2 COMPUTATIONS ###############\n",
    "matrix_mul_mean_2   = np.matmul(cov_class_2_inv,  mean_2_vector.transpose())\n",
    "mean_2_mul_matrix   = np.matmul(mean_2_vector,    cov_class_2_inv)\n",
    "scalar_term_class_2 = np.matmul(mean_2_vector,    matrix_mul_mean_2)\n",
    "\n",
    "###### COMBINED EQUATION ##################\n",
    "quad_param_1       = cov_class_2_inv[0][0] - cov_class_1_inv[0][0]\n",
    "quad_param_2       = cov_class_2_inv[1][1] - cov_class_1_inv[1][1]\n",
    "quad_1_2           = 2*(cov_class_2_inv[0][1] - cov_class_1_inv[0][1])\n",
    "linear_parameters  = matrix_mul_mean_1    +  mean_1_mul_matrix.transpose()  -  matrix_mul_mean_2 - mean_2_mul_matrix.transpose()\n",
    "scalar_term        = scalar_term_class_2  -  scalar_term_class_1            -  rhs\n",
    "\n"
   ]
  },
  {
   "cell_type": "code",
   "execution_count": 9,
   "id": "73314ac2-cec3-41dd-9ec5-1a0c37c5179c",
   "metadata": {},
   "outputs": [
    {
     "data": {
      "image/png": "[encoded data removed]",
      "text/plain": [
       "<Figure size 432x288 with 1 Axes>"
      ]
     },
     "metadata": {
      "needs_background": "light"
     },
     "output_type": "display_data"
    }
   ],
   "source": [
    "x_arr = np.linspace(0, 10, 400)\n",
    "y_arr = np.linspace(0, 10, 400)\n",
    "\n",
    "X, Y = np.meshgrid(x_arr, y_arr)\n",
    "\n",
    "# Define the implicit equation\n",
    "Z = quad_param_1*(X**2) + quad_param_2*(Y**2) + quad_1_2*X*Y + linear_parameters[0][0]*X + linear_parameters[1][0]*Y + scalar_term[0][0]\n",
    "\n",
    "# Plot the implicit curve\n",
    "plt.contour(X, Y, Z, levels=[0], colors='b')\n",
    "\n",
    "plt.scatter(x1_attributes, x2_attributes, c=color)\n",
    "plt.axline((0, intercept), slope=slope, linewidth=1, color='r')# or plt.plot([acidity[0],acidity[1]], [density[0],density[1]])\n",
    "plt.show()"
   ]
  },
  {
   "cell_type": "code",
   "execution_count": null,
   "id": "50ab5924-2fb8-456d-8960-ba63813dd464",
   "metadata": {},
   "outputs": [],
   "source": []
  }
 ],
 "metadata": {
  "kernelspec": {
   "display_name": "Python 3 (ipykernel)",
   "language": "python",
   "name": "python3"
  },
  "language_info": {
   "codemirror_mode": {
    "name": "ipython",
    "version": 3
   },
   "file_extension": ".py",
   "mimetype": "text/x-python",
   "name": "python",
   "nbconvert_exporter": "python",
   "pygments_lexer": "ipython3",
   "version": "3.9.12"
  }
 },
 "nbformat": 4,
 "nbformat_minor": 5
}
