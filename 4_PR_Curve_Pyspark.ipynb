{
 "cells": [
  {
   "cell_type": "markdown",
   "id": "ae6d84ee",
   "metadata": {},
   "source": [
    "## PR-Curve and Table"
   ]
  },
  {
   "cell_type": "code",
   "execution_count": 1,
   "id": "73c059f9",
   "metadata": {},
   "outputs": [
    {
     "name": "stderr",
     "output_type": "stream",
     "text": [
      "/home/ec2-user/anaconda3/envs/python3/lib/python3.6/site-packages/boto3/compat.py:88: PythonDeprecationWarning:\n",
      "\n",
      "Boto3 will no longer support Python 3.6 starting May 30, 2022. To continue receiving service updates, bug fixes, and security updates please upgrade to Python 3.7 or later. More information can be found here: https://aws.amazon.com/blogs/developer/python-support-policy-updates-for-aws-sdks-and-tools/\n",
      "\n"
     ]
    },
    {
     "data": {
      "text/html": [
       "Current session configs: <tt>{'conf': {'spark.driver.maxResultSize': '0', 'spark.sql.autoBroadcastJoinThreshold': -1, 'spark.sql.shuffle.partitions': '500', 'spark.sql.hive.convertMetastoreParquet': 'false', 'spark.sql.sources.bucketing.enabled': 'true', 'hive.input.format': 'org.apache.hadoop.hive.ql.io.BucketizedHiveInputFormat', 'hive.tez.input.format': 'org.apache.hadoop.hive.ql.io.BucketizedHiveInputFormat', 'hive.exec.parallel': 'true', 'hive.exec.dynamic.partition.mode': 'nonstrict', 'hive.convert.join.bucket.mapjoin.tez': 'true', 'hive.auto.convert.sortmerge.join': 'true', 'hive.auto.convert.join': 'true', 'hive.optimize.bucketmapjoin': 'true', 'hive.optimize.bucketmapjoin.sortedmerge ': 'true', 'hive.optimize.index.filter': 'true', 'hive.enforce.bucketing': 'true', 'hive.enforce.sorting': 'true', 'hive.stats.fetch.column.stats': 'true', 'hive.vectorized.execution.enabled': 'true', 'hive.vectorized.execution.reduce.enabled': 'true', 'spark.driver.memory': '49152m'}, 'kind': 'pyspark'}</tt><br>"
      ],
      "text/plain": [
       "<IPython.core.display.HTML object>"
      ]
     },
     "metadata": {},
     "output_type": "display_data"
    },
    {
     "data": {
      "text/html": [
       "No active sessions."
      ],
      "text/plain": [
       "<IPython.core.display.HTML object>"
      ]
     },
     "metadata": {},
     "output_type": "display_data"
    },
    {
     "data": {
      "text/plain": [
       "{'conf': {'spark.driver.maxResultSize': '0',\n",
       "  'spark.sql.autoBroadcastJoinThreshold': -1,\n",
       "  'spark.sql.shuffle.partitions': '500',\n",
       "  'spark.sql.hive.convertMetastoreParquet': 'false',\n",
       "  'spark.sql.sources.bucketing.enabled': 'true',\n",
       "  'hive.input.format': 'org.apache.hadoop.hive.ql.io.BucketizedHiveInputFormat',\n",
       "  'hive.tez.input.format': 'org.apache.hadoop.hive.ql.io.BucketizedHiveInputFormat',\n",
       "  'hive.exec.parallel': 'true',\n",
       "  'hive.exec.dynamic.partition.mode': 'nonstrict',\n",
       "  'hive.convert.join.bucket.mapjoin.tez': 'true',\n",
       "  'hive.auto.convert.sortmerge.join': 'true',\n",
       "  'hive.auto.convert.join': 'true',\n",
       "  'hive.optimize.bucketmapjoin': 'true',\n",
       "  'hive.optimize.bucketmapjoin.sortedmerge ': 'true',\n",
       "  'hive.optimize.index.filter': 'true',\n",
       "  'hive.enforce.bucketing': 'true',\n",
       "  'hive.enforce.sorting': 'true',\n",
       "  'hive.stats.fetch.column.stats': 'true',\n",
       "  'hive.vectorized.execution.enabled': 'true',\n",
       "  'hive.vectorized.execution.reduce.enabled': 'true',\n",
       "  'spark.driver.memory': '49152m'}}"
      ]
     },
     "execution_count": 1,
     "metadata": {},
     "output_type": "execute_result"
    }
   ],
   "source": [
    "%%local\n",
    "import olympia\n",
    "olympia.cluster.connect(name = \"dgoyl\")\n",
    "\n",
    "# For Cannot broadcast the table that is larger than 8GB\n",
    "config_dict = {\n",
    "\"spark.sql.autoBroadcastJoinThreshold\":-1\n",
    "}\n",
    "\n",
    "\n",
    "# # To Increase broadcast timeout\n",
    "# config_dict = {\n",
    "# \"spark.sql.broadcastTimeout\": 2000       # I think the default is 300\n",
    "# }\n",
    "\n",
    "# Updating The Config\n",
    "olympia.cluster.update_session_config(config_dict)\n",
    "\n"
   ]
  },
  {
   "cell_type": "code",
   "execution_count": 2,
   "id": "93dd68c8",
   "metadata": {},
   "outputs": [
    {
     "name": "stdout",
     "output_type": "stream",
     "text": [
      "Starting Spark application\n"
     ]
    },
    {
     "data": {
      "text/html": [
       "<table>\n",
       "<tr><th>ID</th><th>YARN Application ID</th><th>Kind</th><th>State</th><th>Spark UI</th><th>Driver log</th><th>Current session?</th></tr><tr><td>28</td><td>application_1656145012230_0029</td><td>pyspark</td><td>idle</td><td><a target=\"_blank\" href=\"http://ip-10-0-11-155.ec2.internal:20888/proxy/application_1656145012230_0029/\">Link</a></td><td><a target=\"_blank\" href=\"http://ip-10-0-8-67.ec2.internal:8042/node/containerlogs/container_1656145012230_0029_01_000001/livy\">Link</a></td><td>✔</td></tr></table>"
      ],
      "text/plain": [
       "<IPython.core.display.HTML object>"
      ]
     },
     "metadata": {},
     "output_type": "display_data"
    },
    {
     "data": {
      "application/vnd.jupyter.widget-view+json": {
       "model_id": "",
       "version_major": 2,
       "version_minor": 0
      },
      "text/plain": [
       "FloatProgress(value=0.0, bar_style='info', description='Progress:', layout=Layout(height='25px', width='50%'),…"
      ]
     },
     "metadata": {},
     "output_type": "display_data"
    },
    {
     "name": "stdout",
     "output_type": "stream",
     "text": [
      "SparkSession available as 'spark'.\n"
     ]
    },
    {
     "data": {
      "application/vnd.jupyter.widget-view+json": {
       "model_id": "",
       "version_major": 2,
       "version_minor": 0
      },
      "text/plain": [
       "FloatProgress(value=0.0, bar_style='info', description='Progress:', layout=Layout(height='25px', width='50%'),…"
      ]
     },
     "metadata": {},
     "output_type": "display_data"
    }
   ],
   "source": [
    "%spark"
   ]
  },
  {
   "cell_type": "code",
   "execution_count": 3,
   "id": "28e15240",
   "metadata": {},
   "outputs": [
    {
     "data": {
      "text/html": [
       "Current session configs: <tt>{'conf': {'spark.driver.maxResultSize': '0', 'spark.sql.autoBroadcastJoinThreshold': -1, 'spark.sql.shuffle.partitions': '500', 'spark.sql.hive.convertMetastoreParquet': 'false', 'spark.sql.sources.bucketing.enabled': 'true', 'hive.input.format': 'org.apache.hadoop.hive.ql.io.BucketizedHiveInputFormat', 'hive.tez.input.format': 'org.apache.hadoop.hive.ql.io.BucketizedHiveInputFormat', 'hive.exec.parallel': 'true', 'hive.exec.dynamic.partition.mode': 'nonstrict', 'hive.convert.join.bucket.mapjoin.tez': 'true', 'hive.auto.convert.sortmerge.join': 'true', 'hive.auto.convert.join': 'true', 'hive.optimize.bucketmapjoin': 'true', 'hive.optimize.bucketmapjoin.sortedmerge ': 'true', 'hive.optimize.index.filter': 'true', 'hive.enforce.bucketing': 'true', 'hive.enforce.sorting': 'true', 'hive.stats.fetch.column.stats': 'true', 'hive.vectorized.execution.enabled': 'true', 'hive.vectorized.execution.reduce.enabled': 'true', 'spark.driver.memory': '49152m'}, 'kind': 'pyspark'}</tt><br>"
      ],
      "text/plain": [
       "<IPython.core.display.HTML object>"
      ]
     },
     "metadata": {},
     "output_type": "display_data"
    },
    {
     "data": {
      "text/html": [
       "<table>\n",
       "<tr><th>ID</th><th>YARN Application ID</th><th>Kind</th><th>State</th><th>Spark UI</th><th>Driver log</th><th>Current session?</th></tr><tr><td>28</td><td>application_1656145012230_0029</td><td>pyspark</td><td>idle</td><td><a target=\"_blank\" href=\"http://ip-10-0-11-155.ec2.internal:20888/proxy/application_1656145012230_0029/\">Link</a></td><td><a target=\"_blank\" href=\"http://ip-10-0-8-67.ec2.internal:8042/node/containerlogs/container_1656145012230_0029_01_000001/livy\">Link</a></td><td>✔</td></tr></table>"
      ],
      "text/plain": [
       "<IPython.core.display.HTML object>"
      ]
     },
     "metadata": {},
     "output_type": "display_data"
    }
   ],
   "source": [
    "%info"
   ]
  },
  {
   "cell_type": "markdown",
   "id": "531fd265",
   "metadata": {},
   "source": [
    "## Parameters"
   ]
  },
  {
   "cell_type": "code",
   "execution_count": 4,
   "id": "9288aecf",
   "metadata": {
    "execution": {
     "iopub.execute_input": "2022-06-08T03:46:27.007799Z",
     "iopub.status.busy": "2022-06-08T03:46:27.007396Z",
     "iopub.status.idle": "2022-06-08T03:46:27.118808Z",
     "shell.execute_reply": "2022-06-08T03:46:27.117528Z",
     "shell.execute_reply.started": "2022-06-08T03:46:27.007752Z"
    },
    "tags": []
   },
   "outputs": [
    {
     "data": {
      "application/vnd.jupyter.widget-view+json": {
       "model_id": "",
       "version_major": 2,
       "version_minor": 0
      },
      "text/plain": [
       "FloatProgress(value=0.0, bar_style='info', description='Progress:', layout=Layout(height='25px', width='50%'),…"
      ]
     },
     "metadata": {},
     "output_type": "display_data"
    }
   ],
   "source": [
    "browse_node_level = 9\n",
    "\n",
    "t1 = [0.5, 0.5, 0.5, 0.4, 0.4, 0.4, 0.3, 0.3, 0.3] \n",
    "t2 = [0.2, 0.2, 0.2, 0.2, 0.2, 0.2, 0.2, 0.2, 0.2]\n",
    "t3 = [0.3, 0.3, 0.3, 0.3, 0.3, 0.3, 0.3, 0.3, 0.3]\n",
    "t4 = [0.4, 0.4, 0.4, 0.4, 0.4, 0.4, 0.4, 0.4, 0.4]\n",
    "t5 = [0.5, 0.5, 0.5, 0.5, 0.5, 0.5, 0.5, 0.5, 0.5]\n",
    "t6 = [0.6, 0.6, 0.6, 0.6, 0.6, 0.6, 0.6, 0.6, 0.6]\n",
    "t7 = [0.7, 0.7, 0.7, 0.7, 0.7, 0.7, 0.7, 0.7, 0.7]\n",
    "t7_no_root = [0.0, 0.7, 0.7, 0.7, 0.7, 0.7, 0.7, 0.7, 0.7]\n",
    "t8 = [0.8, 0.8, 0.8, 0.8, 0.8, 0.8, 0.8, 0.8, 0.8]\n",
    "\n",
    "t10 = [0.2, 0.3, 0.3, 0.3, 0.4, 0.4, 0.4, 0.4, 0.5]\n",
    "\n",
    "threshold = t7\n",
    "t_string = \"t7\"\n",
    "max_block_size = 10000\n",
    "\n",
    "block_size = 10000\n",
    "num_levels = 9      # Maximum Number of Levels Are 9 ranging from 1 to 9"
   ]
  },
  {
   "cell_type": "markdown",
   "id": "1fff4f5e",
   "metadata": {},
   "source": [
    "## Main Code"
   ]
  },
  {
   "cell_type": "code",
   "execution_count": 9,
   "id": "380713c6",
   "metadata": {},
   "outputs": [
    {
     "data": {
      "application/vnd.jupyter.widget-view+json": {
       "model_id": "",
       "version_major": 2,
       "version_minor": 0
      },
      "text/plain": [
       "FloatProgress(value=0.0, bar_style='info', description='Progress:', layout=Layout(height='25px', width='50%'),…"
      ]
     },
     "metadata": {},
     "output_type": "display_data"
    }
   ],
   "source": [
    "threshold_value = [0.25, 0.30, 0.35, 0.40, 0.45, 0.50, 0.55, 0.60, 0.65, 0.70, 0.75, 0.80, 0.85, 0.90, 0.95]\n",
    "true_positives = [35, 35, 35, 35, 35, 35, 35, 35, 34, 31, 29, 27, 25, 20, 15]\n",
    "false_positives = [15, 13, 13, 13, 12, 12, 12, 10, 10, 8, 6, 6, 6, 4, 1]\n",
    "total_positives = 35"
   ]
  },
  {
   "cell_type": "code",
   "execution_count": 10,
   "id": "5e23d4fe",
   "metadata": {},
   "outputs": [
    {
     "data": {
      "application/vnd.jupyter.widget-view+json": {
       "model_id": "",
       "version_major": 2,
       "version_minor": 0
      },
      "text/plain": [
       "FloatProgress(value=0.0, bar_style='info', description='Progress:', layout=Layout(height='25px', width='50%'),…"
      ]
     },
     "metadata": {},
     "output_type": "display_data"
    },
    {
     "name": "stdout",
     "output_type": "stream",
     "text": [
      "[0.7, 0.7291666666666666, 0.7291666666666666, 0.7291666666666666, 0.7446808510638298, 0.7446808510638298, 0.7446808510638298, 0.7777777777777778, 0.7727272727272727, 0.7948717948717948, 0.8285714285714286, 0.8181818181818182, 0.8064516129032258, 0.8333333333333334, 0.9375]\n",
      "[1.0, 1.0, 1.0, 1.0, 1.0, 1.0, 1.0, 1.0, 0.9714285714285714, 0.8857142857142857, 0.8285714285714286, 0.7714285714285715, 0.7142857142857143, 0.5714285714285714, 0.42857142857142855]\n",
      "[0.8235294117647058, 0.8433734939759037, 0.8433734939759037, 0.8433734939759037, 0.8536585365853657, 0.8536585365853657, 0.8536585365853657, 0.8750000000000001, 0.8607594936708862, 0.8378378378378378, 0.8285714285714286, 0.7941176470588236, 0.7575757575757576, 0.6779661016949152, 0.588235294117647]"
     ]
    }
   ],
   "source": [
    "precision_list = []\n",
    "recall_list = []\n",
    "f1_score_list = []\n",
    "\n",
    "for index in range(0,len(true_positives)):\n",
    "    \n",
    "    precision = true_positives[index]/ (true_positives[index] + false_positives[index])\n",
    "    recall = true_positives[index]/total_positives\n",
    "    f1_score = 2*precision*recall/(recall + precision)\n",
    "    \n",
    "    precision_list.append(precision)\n",
    "    recall_list.append(recall)\n",
    "    f1_score_list.append(f1_score)\n",
    "\n",
    "print(precision_list)\n",
    "print(recall_list)\n",
    "print(f1_score_list)"
   ]
  },
  {
   "cell_type": "code",
   "execution_count": 11,
   "id": "2b585b2a",
   "metadata": {},
   "outputs": [
    {
     "data": {
      "application/vnd.jupyter.widget-view+json": {
       "model_id": "",
       "version_major": 2,
       "version_minor": 0
      },
      "text/plain": [
       "FloatProgress(value=0.0, bar_style='info', description='Progress:', layout=Layout(height='25px', width='50%'),…"
      ]
     },
     "metadata": {},
     "output_type": "display_data"
    }
   ],
   "source": [
    "all_list = []\n",
    "for index in range(0, len(true_positives)):\n",
    "    row = (threshold_value[index], true_positives[index], false_positives[index], precision_list[index], recall_list[index], f1_score_list[index])\n",
    "    all_list.append(row)    "
   ]
  },
  {
   "cell_type": "code",
   "execution_count": 13,
   "id": "ab87467a",
   "metadata": {},
   "outputs": [
    {
     "data": {
      "application/vnd.jupyter.widget-view+json": {
       "model_id": "",
       "version_major": 2,
       "version_minor": 0
      },
      "text/plain": [
       "FloatProgress(value=0.0, bar_style='info', description='Progress:', layout=Layout(height='25px', width='50%'),…"
      ]
     },
     "metadata": {},
     "output_type": "display_data"
    },
    {
     "name": "stdout",
     "output_type": "stream",
     "text": [
      "+---------------+---------------+----------------+------------------+-------------------+------------------+\n",
      "|Threshold_Value|#True_Positives|#False_Positives|         Precision|             Recall|          F1_Score|\n",
      "+---------------+---------------+----------------+------------------+-------------------+------------------+\n",
      "|           0.25|             35|              15|               0.7|                1.0|0.8235294117647058|\n",
      "|            0.3|             35|              13|0.7291666666666666|                1.0|0.8433734939759037|\n",
      "|           0.35|             35|              13|0.7291666666666666|                1.0|0.8433734939759037|\n",
      "|            0.4|             35|              13|0.7291666666666666|                1.0|0.8433734939759037|\n",
      "|           0.45|             35|              12|0.7446808510638298|                1.0|0.8536585365853657|\n",
      "|            0.5|             35|              12|0.7446808510638298|                1.0|0.8536585365853657|\n",
      "|           0.55|             35|              12|0.7446808510638298|                1.0|0.8536585365853657|\n",
      "|            0.6|             35|              10|0.7777777777777778|                1.0|0.8750000000000001|\n",
      "|           0.65|             34|              10|0.7727272727272727| 0.9714285714285714|0.8607594936708862|\n",
      "|            0.7|             31|               8|0.7948717948717948| 0.8857142857142857|0.8378378378378378|\n",
      "|           0.75|             29|               6|0.8285714285714286| 0.8285714285714286|0.8285714285714286|\n",
      "|            0.8|             27|               6|0.8181818181818182| 0.7714285714285715|0.7941176470588236|\n",
      "|           0.85|             25|               6|0.8064516129032258| 0.7142857142857143|0.7575757575757576|\n",
      "|            0.9|             20|               4|0.8333333333333334| 0.5714285714285714|0.6779661016949152|\n",
      "|           0.95|             15|               1|            0.9375|0.42857142857142855| 0.588235294117647|\n",
      "+---------------+---------------+----------------+------------------+-------------------+------------------+"
     ]
    }
   ],
   "source": [
    "df = spark.createDataFrame(all_list, ['Threshold_Value','#True_Positives','#False_Positives'\\\n",
    "                                       ,'Precision', 'Recall', 'F1_Score'])\n",
    "df.show(20)\n",
    "\n",
    "\n"
   ]
  },
  {
   "cell_type": "code",
   "execution_count": null,
   "id": "a85d5c12",
   "metadata": {},
   "outputs": [],
   "source": []
  }
 ],
 "metadata": {
  "kernelspec": {
   "display_name": "Python 3 (ipykernel)",
   "language": "python",
   "name": "python3"
  },
  "language_info": {
   "codemirror_mode": {
    "name": "ipython",
    "version": 3
   },
   "file_extension": ".py",
   "mimetype": "text/x-python",
   "name": "python",
   "nbconvert_exporter": "python",
   "pygments_lexer": "ipython3",
   "version": "3.9.12"
  }
 },
 "nbformat": 4,
 "nbformat_minor": 5
}
