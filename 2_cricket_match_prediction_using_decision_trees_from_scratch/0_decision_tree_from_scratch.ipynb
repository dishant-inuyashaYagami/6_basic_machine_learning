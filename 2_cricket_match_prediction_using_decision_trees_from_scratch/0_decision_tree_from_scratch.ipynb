{
 "cells": [
  {
   "cell_type": "markdown",
   "id": "9aef286c-34c6-4d18-8490-2b5f4f05d929",
   "metadata": {},
   "source": [
    "## ============   Decision Trees    ==============="
   ]
  },
  {
   "cell_type": "code",
   "execution_count": 71,
   "id": "ebf06a1e-352d-4c91-b3d9-caef196a1d3a",
   "metadata": {},
   "outputs": [],
   "source": [
    "use_one_hot_encoding = 0    # i do not understand, why one hot encoding can be useful here\n",
    "                            # it makes more sense with neural network\n",
    "use_post_pruning     = 0    # = 1 avoids overfitting\n",
    "\n",
    "assert(use_one_hot_encoding == 0   or    use_one_hot_encoding == 1)\n",
    "assert(use_post_pruning     == 0   or    use_post_pruning     == 1)  "
   ]
  },
  {
   "cell_type": "code",
   "execution_count": null,
   "id": "338c90ca-efc7-464d-8c9b-aa5ab7882925",
   "metadata": {},
   "outputs": [],
   "source": []
  },
  {
   "cell_type": "markdown",
   "id": "28eebe3e-5009-4379-b1d9-28cda932a3f0",
   "metadata": {},
   "source": [
    "### Loading Data"
   ]
  },
  {
   "cell_type": "code",
   "execution_count": 69,
   "id": "04766ac6-8690-4562-b6fb-69fed87e840c",
   "metadata": {},
   "outputs": [
    {
     "name": "stdout",
     "output_type": "stream",
     "text": [
      "140300225451728\n",
      "140300542944160\n",
      "140300542944160\n"
     ]
    },
    {
     "data": {
      "text/html": [
       "<div>\n",
       "<style scoped>\n",
       "    .dataframe tbody tr th:only-of-type {\n",
       "        vertical-align: middle;\n",
       "    }\n",
       "\n",
       "    .dataframe tbody tr th {\n",
       "        vertical-align: top;\n",
       "    }\n",
       "\n",
       "    .dataframe thead th {\n",
       "        text-align: right;\n",
       "    }\n",
       "</style>\n",
       "<table border=\"1\" class=\"dataframe\">\n",
       "  <thead>\n",
       "    <tr style=\"text-align: right;\">\n",
       "      <th></th>\n",
       "      <th>team</th>\n",
       "      <th>opp</th>\n",
       "      <th>host</th>\n",
       "      <th>year</th>\n",
       "      <th>month</th>\n",
       "      <th>toss</th>\n",
       "      <th>day_match</th>\n",
       "      <th>bat_first</th>\n",
       "      <th>format</th>\n",
       "      <th>fow</th>\n",
       "      <th>score</th>\n",
       "      <th>rpo</th>\n",
       "      <th>result</th>\n",
       "    </tr>\n",
       "  </thead>\n",
       "  <tbody>\n",
       "    <tr>\n",
       "      <th>0</th>\n",
       "      <td>australia</td>\n",
       "      <td>south_africa</td>\n",
       "      <td>sri_lanka</td>\n",
       "      <td>2012</td>\n",
       "      <td>sep</td>\n",
       "      <td>1</td>\n",
       "      <td>0</td>\n",
       "      <td>0</td>\n",
       "      <td>1</td>\n",
       "      <td>5</td>\n",
       "      <td>146</td>\n",
       "      <td>7.30</td>\n",
       "      <td>1</td>\n",
       "    </tr>\n",
       "    <tr>\n",
       "      <th>1</th>\n",
       "      <td>india</td>\n",
       "      <td>australia</td>\n",
       "      <td>india</td>\n",
       "      <td>2020</td>\n",
       "      <td>jan</td>\n",
       "      <td>0</td>\n",
       "      <td>0</td>\n",
       "      <td>1</td>\n",
       "      <td>0</td>\n",
       "      <td>6</td>\n",
       "      <td>340</td>\n",
       "      <td>6.80</td>\n",
       "      <td>1</td>\n",
       "    </tr>\n",
       "    <tr>\n",
       "      <th>2</th>\n",
       "      <td>canada</td>\n",
       "      <td>scotland</td>\n",
       "      <td>scotland</td>\n",
       "      <td>2009</td>\n",
       "      <td>jul</td>\n",
       "      <td>1</td>\n",
       "      <td>1</td>\n",
       "      <td>0</td>\n",
       "      <td>0</td>\n",
       "      <td>4</td>\n",
       "      <td>286</td>\n",
       "      <td>5.72</td>\n",
       "      <td>1</td>\n",
       "    </tr>\n",
       "    <tr>\n",
       "      <th>3</th>\n",
       "      <td>australia</td>\n",
       "      <td>england</td>\n",
       "      <td>australia</td>\n",
       "      <td>1987</td>\n",
       "      <td>jan</td>\n",
       "      <td>1</td>\n",
       "      <td>1</td>\n",
       "      <td>1</td>\n",
       "      <td>0</td>\n",
       "      <td>6</td>\n",
       "      <td>225</td>\n",
       "      <td>4.50</td>\n",
       "      <td>1</td>\n",
       "    </tr>\n",
       "    <tr>\n",
       "      <th>4</th>\n",
       "      <td>new_zealand</td>\n",
       "      <td>pakistan</td>\n",
       "      <td>uae</td>\n",
       "      <td>2009</td>\n",
       "      <td>nov</td>\n",
       "      <td>0</td>\n",
       "      <td>0</td>\n",
       "      <td>0</td>\n",
       "      <td>1</td>\n",
       "      <td>5</td>\n",
       "      <td>153</td>\n",
       "      <td>7.65</td>\n",
       "      <td>0</td>\n",
       "    </tr>\n",
       "  </tbody>\n",
       "</table>\n",
       "</div>"
      ],
      "text/plain": [
       "          team           opp       host  year month  toss  day_match  \\\n",
       "0    australia  south_africa  sri_lanka  2012   sep     1          0   \n",
       "1        india     australia      india  2020   jan     0          0   \n",
       "2       canada      scotland   scotland  2009   jul     1          1   \n",
       "3    australia       england  australia  1987   jan     1          1   \n",
       "4  new_zealand      pakistan        uae  2009   nov     0          0   \n",
       "\n",
       "   bat_first  format  fow  score   rpo  result  \n",
       "0          0       1    5    146  7.30       1  \n",
       "1          1       0    6    340  6.80       1  \n",
       "2          0       0    4    286  5.72       1  \n",
       "3          1       0    6    225  4.50       1  \n",
       "4          0       1    5    153  7.65       0  "
      ]
     },
     "execution_count": 69,
     "metadata": {},
     "output_type": "execute_result"
    }
   ],
   "source": [
    "import pandas as pd\n",
    "df = pd.read_csv('dataset_cricket_match/train.csv')\n",
    "print (id(df))\n",
    "df = df.drop('Unnamed: 0', axis = 1)\n",
    "print (id(df))\n",
    "ndf = df\n",
    "print (id(df))\n",
    "df.head(5)"
   ]
  },
  {
   "cell_type": "code",
   "execution_count": null,
   "id": "5232448c-c72c-4470-93ee-6d79b0e4fc9a",
   "metadata": {},
   "outputs": [],
   "source": []
  },
  {
   "cell_type": "markdown",
   "id": "cced04dd-fdf6-43ff-90ad-b0138b6b4363",
   "metadata": {},
   "source": [
    "### STATS"
   ]
  },
  {
   "cell_type": "code",
   "execution_count": 27,
   "id": "2fb3e181-a851-4725-872c-ac989d0863a3",
   "metadata": {},
   "outputs": [
    {
     "name": "stdout",
     "output_type": "stream",
     "text": [
      "number of rows         :  7827\n",
      "number of features     :  12\n",
      "number of class labels :  2\n",
      "<class 'pandas.core.frame.DataFrame'>\n",
      "RangeIndex: 7827 entries, 0 to 7826\n",
      "Data columns (total 13 columns):\n",
      " #   Column     Non-Null Count  Dtype  \n",
      "---  ------     --------------  -----  \n",
      " 0   team       7827 non-null   object \n",
      " 1   opp        7827 non-null   object \n",
      " 2   host       7827 non-null   object \n",
      " 3   year       7827 non-null   int64  \n",
      " 4   month      7827 non-null   object \n",
      " 5   toss       7827 non-null   int64  \n",
      " 6   day_match  7827 non-null   int64  \n",
      " 7   bat_first  7827 non-null   int64  \n",
      " 8   format     7827 non-null   int64  \n",
      " 9   fow        7827 non-null   int64  \n",
      " 10  score      7827 non-null   int64  \n",
      " 11  rpo        7827 non-null   float64\n",
      " 12  result     7827 non-null   int64  \n",
      "dtypes: float64(1), int64(8), object(4)\n",
      "memory usage: 795.1+ KB\n"
     ]
    }
   ],
   "source": [
    "print (\"number of rows         : \", df.shape[0])\n",
    "print (\"number of features     : \", df.shape[1]-1)  # excluding the class labels\n",
    "print (\"number of class labels : \", 2)\n",
    "df.info()"
   ]
  },
  {
   "cell_type": "code",
   "execution_count": null,
   "id": "f0416724-25f0-4edf-b402-1a9050cb6e62",
   "metadata": {},
   "outputs": [],
   "source": []
  },
  {
   "cell_type": "markdown",
   "id": "bee02b3a-fa1f-4cfd-9644-412414b89821",
   "metadata": {},
   "source": [
    "### Compute Entropy"
   ]
  },
  {
   "cell_type": "code",
   "execution_count": 60,
   "id": "abdc8374-215c-4455-841a-f2bed3614655",
   "metadata": {},
   "outputs": [
    {
     "name": "stdout",
     "output_type": "stream",
     "text": [
      "140300514480032\n",
      "140300514480032\n"
     ]
    }
   ],
   "source": [
    "print (id(df))\n",
    "df.iloc[0,5] = 16\n",
    "df.head(5)\n",
    "print (id(df))"
   ]
  },
  {
   "cell_type": "code",
   "execution_count": 62,
   "id": "fcb7b145-ee87-4f53-ad1f-4fd3d4af8140",
   "metadata": {},
   "outputs": [
    {
     "name": "stdout",
     "output_type": "stream",
     "text": [
      "140300514480032\n",
      "140300791484128\n"
     ]
    },
    {
     "data": {
      "text/html": [
       "<div>\n",
       "<style scoped>\n",
       "    .dataframe tbody tr th:only-of-type {\n",
       "        vertical-align: middle;\n",
       "    }\n",
       "\n",
       "    .dataframe tbody tr th {\n",
       "        vertical-align: top;\n",
       "    }\n",
       "\n",
       "    .dataframe thead th {\n",
       "        text-align: right;\n",
       "    }\n",
       "</style>\n",
       "<table border=\"1\" class=\"dataframe\">\n",
       "  <thead>\n",
       "    <tr style=\"text-align: right;\">\n",
       "      <th></th>\n",
       "      <th>team</th>\n",
       "      <th>opp</th>\n",
       "      <th>host</th>\n",
       "      <th>year</th>\n",
       "      <th>month</th>\n",
       "      <th>toss</th>\n",
       "      <th>day_match</th>\n",
       "      <th>bat_first</th>\n",
       "      <th>format</th>\n",
       "      <th>fow</th>\n",
       "      <th>score</th>\n",
       "      <th>rpo</th>\n",
       "      <th>result</th>\n",
       "    </tr>\n",
       "  </thead>\n",
       "  <tbody>\n",
       "    <tr>\n",
       "      <th>1</th>\n",
       "      <td>india</td>\n",
       "      <td>australia</td>\n",
       "      <td>india</td>\n",
       "      <td>2020</td>\n",
       "      <td>jan</td>\n",
       "      <td>0</td>\n",
       "      <td>0</td>\n",
       "      <td>1</td>\n",
       "      <td>0</td>\n",
       "      <td>6</td>\n",
       "      <td>340</td>\n",
       "      <td>6.80</td>\n",
       "      <td>1</td>\n",
       "    </tr>\n",
       "    <tr>\n",
       "      <th>6</th>\n",
       "      <td>india</td>\n",
       "      <td>pakistan</td>\n",
       "      <td>india</td>\n",
       "      <td>1999</td>\n",
       "      <td>mar</td>\n",
       "      <td>0</td>\n",
       "      <td>1</td>\n",
       "      <td>0</td>\n",
       "      <td>0</td>\n",
       "      <td>9</td>\n",
       "      <td>278</td>\n",
       "      <td>5.56</td>\n",
       "      <td>0</td>\n",
       "    </tr>\n",
       "    <tr>\n",
       "      <th>7</th>\n",
       "      <td>india</td>\n",
       "      <td>australia</td>\n",
       "      <td>australia</td>\n",
       "      <td>1981</td>\n",
       "      <td>jan</td>\n",
       "      <td>1</td>\n",
       "      <td>0</td>\n",
       "      <td>0</td>\n",
       "      <td>0</td>\n",
       "      <td>8</td>\n",
       "      <td>242</td>\n",
       "      <td>4.84</td>\n",
       "      <td>0</td>\n",
       "    </tr>\n",
       "    <tr>\n",
       "      <th>9</th>\n",
       "      <td>india</td>\n",
       "      <td>sri_lanka</td>\n",
       "      <td>india</td>\n",
       "      <td>2014</td>\n",
       "      <td>nov</td>\n",
       "      <td>0</td>\n",
       "      <td>0</td>\n",
       "      <td>0</td>\n",
       "      <td>0</td>\n",
       "      <td>8</td>\n",
       "      <td>274</td>\n",
       "      <td>5.48</td>\n",
       "      <td>1</td>\n",
       "    </tr>\n",
       "    <tr>\n",
       "      <th>19</th>\n",
       "      <td>india</td>\n",
       "      <td>west_indis</td>\n",
       "      <td>india</td>\n",
       "      <td>1988</td>\n",
       "      <td>jan</td>\n",
       "      <td>1</td>\n",
       "      <td>1</td>\n",
       "      <td>0</td>\n",
       "      <td>0</td>\n",
       "      <td>10</td>\n",
       "      <td>196</td>\n",
       "      <td>4.04</td>\n",
       "      <td>0</td>\n",
       "    </tr>\n",
       "  </tbody>\n",
       "</table>\n",
       "</div>"
      ],
      "text/plain": [
       "     team         opp       host  year month  toss  day_match  bat_first  \\\n",
       "1   india   australia      india  2020   jan     0          0          1   \n",
       "6   india    pakistan      india  1999   mar     0          1          0   \n",
       "7   india   australia  australia  1981   jan     1          0          0   \n",
       "9   india   sri_lanka      india  2014   nov     0          0          0   \n",
       "19  india  west_indis      india  1988   jan     1          1          0   \n",
       "\n",
       "    format  fow  score   rpo  result  \n",
       "1        0    6    340  6.80       1  \n",
       "6        0    9    278  5.56       0  \n",
       "7        0    8    242  4.84       0  \n",
       "9        0    8    274  5.48       1  \n",
       "19       0   10    196  4.04       0  "
      ]
     },
     "execution_count": 62,
     "metadata": {},
     "output_type": "execute_result"
    }
   ],
   "source": [
    "print (id(df))\n",
    "df = df.loc[df[\"team\"] == \"india\"]\n",
    "print (id(df))\n",
    "df.head(5)"
   ]
  },
  {
   "cell_type": "code",
   "execution_count": 64,
   "id": "295b161c-aaa9-49e1-b2d8-7a7283e3c020",
   "metadata": {},
   "outputs": [
    {
     "name": "stdout",
     "output_type": "stream",
     "text": [
      "140300543440832\n",
      "140300543440832\n",
      "140300542901264\n",
      "140300542901264\n"
     ]
    }
   ],
   "source": [
    "def compEntropy(group_df, attribute):\n",
    "    print (id(group_df))\n",
    "    group_df = group_df.groupby(attribute).sum()\n",
    "    print (id(group_df))\n",
    "    #print (group_df)\n",
    "    return group_df\n",
    "\n",
    "group_df = df.copy()\n",
    "print (id(group_df))\n",
    "group_df = compEntropy(group_df,\"team\" )\n",
    "print (id(group_df))\n",
    "#df[\"team\"].value_counts().to_dict()"
   ]
  },
  {
   "cell_type": "code",
   "execution_count": null,
   "id": "dc33b6e5-a221-4fdd-aa57-1156849285cb",
   "metadata": {},
   "outputs": [],
   "source": []
  },
  {
   "cell_type": "code",
   "execution_count": null,
   "id": "7d135a73-27bb-4867-872c-7274a3102642",
   "metadata": {},
   "outputs": [],
   "source": []
  },
  {
   "cell_type": "code",
   "execution_count": null,
   "id": "3ea4bfab-1e30-48c6-865b-913f82794d0d",
   "metadata": {},
   "outputs": [],
   "source": []
  },
  {
   "cell_type": "code",
   "execution_count": null,
   "id": "5899fcd3-1eae-4fb3-a3b1-a6d41d5a6387",
   "metadata": {},
   "outputs": [],
   "source": []
  },
  {
   "cell_type": "code",
   "execution_count": null,
   "id": "067b91b7-7d0f-41f9-8423-5eedf6afd29e",
   "metadata": {},
   "outputs": [],
   "source": []
  },
  {
   "cell_type": "code",
   "execution_count": null,
   "id": "18e1ab9d-468d-4030-979b-afc667b4cfd5",
   "metadata": {},
   "outputs": [],
   "source": []
  },
  {
   "cell_type": "code",
   "execution_count": null,
   "id": "adf3469f-ea59-4052-9f23-2e89e68e811f",
   "metadata": {},
   "outputs": [],
   "source": []
  },
  {
   "cell_type": "code",
   "execution_count": null,
   "id": "91989564-8123-4971-8c01-243183ce46d3",
   "metadata": {},
   "outputs": [],
   "source": []
  },
  {
   "cell_type": "code",
   "execution_count": null,
   "id": "c4bc9529-f1f6-4f18-8d8a-2c1348617cb9",
   "metadata": {},
   "outputs": [],
   "source": []
  },
  {
   "cell_type": "markdown",
   "id": "acbcc388-03b5-4418-93c9-da0a60483440",
   "metadata": {},
   "source": [
    "##### JUNK (Entropy Example)"
   ]
  },
  {
   "cell_type": "code",
   "execution_count": 12,
   "id": "533a6c24-1360-4a12-ab54-b07102a9cfb9",
   "metadata": {},
   "outputs": [
    {
     "name": "stdout",
     "output_type": "stream",
     "text": [
      "entropy for [8|2]  : 0.7219280948873623\n",
      "entropy for [12|8] : 0.9709505944546686\n",
      "total entropy      : 0.8879430945988998\n"
     ]
    }
   ],
   "source": [
    "import math\n",
    "\n",
    "entropy_1     = -1*(1/5*math.log(1/5,2) +  4/5*math.log(4/5,2))         # base 2\n",
    "entropy_2     = -1*(8/20*math.log(8/20,2) +  12/20*math.log(12/20,2))   # base 2\n",
    "entropy_full  =  1/3*entropy_1 + 2/3*entropy_2\n",
    "\n",
    "print (\"entropy for [8|2]  :\",  entropy_1)\n",
    "print (\"entropy for [12|8] :\",  entropy_2)\n",
    "print (\"total entropy      :\",  entropy_full)"
   ]
  },
  {
   "cell_type": "code",
   "execution_count": null,
   "id": "47fc6929-fabc-4ec4-a654-69c06c2a64f9",
   "metadata": {},
   "outputs": [],
   "source": []
  }
 ],
 "metadata": {
  "kernelspec": {
   "display_name": "Python 3 (ipykernel)",
   "language": "python",
   "name": "python3"
  },
  "language_info": {
   "codemirror_mode": {
    "name": "ipython",
    "version": 3
   },
   "file_extension": ".py",
   "mimetype": "text/x-python",
   "name": "python",
   "nbconvert_exporter": "python",
   "pygments_lexer": "ipython3",
   "version": "3.9.12"
  }
 },
 "nbformat": 4,
 "nbformat_minor": 5
}
