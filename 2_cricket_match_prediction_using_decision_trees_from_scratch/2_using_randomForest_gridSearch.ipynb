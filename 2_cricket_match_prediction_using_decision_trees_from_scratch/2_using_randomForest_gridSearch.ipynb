{
 "cells": [
  {
   "cell_type": "markdown",
   "id": "9aef286c-34c6-4d18-8490-2b5f4f05d929",
   "metadata": {},
   "source": [
    "## ============   Scikit Learn: Ensembling & GridSearch    ==============="
   ]
  },
  {
   "cell_type": "markdown",
   "id": "1d84f90a-a6c8-4a91-9b8e-20b3d8c10250",
   "metadata": {},
   "source": [
    "##### Random Forest: https://scikit-learn.org/stable/modules/generated/sklearn.ensemble.RandomForestClassifier.html"
   ]
  },
  {
   "cell_type": "markdown",
   "id": "c0f35107-8aed-452f-95f0-48b6c129f68d",
   "metadata": {
    "jp-MarkdownHeadingCollapsed": true
   },
   "source": [
    "##### Grid Search: https://scikit-learn.org/stable/modules/grid_search.html\n",
    "#####              &emsp;&emsp;&emsp;&emsp;&emsp;&emsp; https://scikit-learn.org/dev/modules/generated/sklearn.model_selection.GridSearchCV.html"
   ]
  },
  {
   "cell_type": "markdown",
   "id": "1d334659-9f79-46b8-a5a8-88e4f38dc1ea",
   "metadata": {},
   "source": [
    "##### only accepts float attribute values; i.e., one hot encoding; therefore using use_one_hot_encoding = 1"
   ]
  },
  {
   "cell_type": "markdown",
   "id": "28afe75e-b4bf-4ea1-9bd8-fbbe2916b650",
   "metadata": {},
   "source": [
    "##### I think uses a different pruning technique; Link: https://scikit-learn.org/stable/modules/tree.html#minimal-cost-complexity-pruning"
   ]
  },
  {
   "cell_type": "code",
   "execution_count": 1,
   "id": "ebf06a1e-352d-4c91-b3d9-caef196a1d3a",
   "metadata": {},
   "outputs": [],
   "source": [
    "use_grid_search      = 1     # searches for various combinations of parameters to get best validation accuracy\n",
    "use_default          = 1     # uses default parameters for the random forest\n",
    "depth_limit          = 70    # grow the tree only upto this depth\n",
    "num_trees            = 100   # number of trees in the forest\n",
    "use_one_hot_encoding = 1     # i do not understand, why one hot encoding can be useful here\n",
    "                             # it makes more sense with neural network\n",
    "                             # you can use label encoding; but how it is useful if number of splits same for all features in DT-sciket learn\n",
    "merge_train_valid    = 0     # add validation set to training set since validation fraction is taken from train set only\n",
    "                             # after including it; why the accuracy on validation set not close to 1 but it is ~ 0.66?\n",
    "# default accuracy                 = 0.61\n",
    "# + depth_limit > 20               = 0.61 and train > 0.95\n",
    "# + depth_limit = 15               = 0.59 and train = 0.90\n",
    "# using grid search + max_features = 0.642                       ====== BEST\n",
    "\n",
    "assert(depth_limit          >= 0)\n",
    "assert(use_one_hot_encoding == 0   or    use_one_hot_encoding == 1)\n",
    "\n",
    "need_label_encoding = ['team','host','opp','month', 'day_match']"
   ]
  },
  {
   "cell_type": "code",
   "execution_count": null,
   "id": "338c90ca-efc7-464d-8c9b-aa5ab7882925",
   "metadata": {},
   "outputs": [],
   "source": []
  },
  {
   "cell_type": "markdown",
   "id": "28eebe3e-5009-4379-b1d9-28cda932a3f0",
   "metadata": {},
   "source": [
    "### Loading Data"
   ]
  },
  {
   "cell_type": "code",
   "execution_count": 2,
   "id": "04766ac6-8690-4562-b6fb-69fed87e840c",
   "metadata": {},
   "outputs": [],
   "source": [
    "import pandas as pd\n",
    "df = pd.read_csv('dataset_cricket_match/train.csv')\n",
    "df = df.drop(\"Unnamed: 0\", axis = 1)\n",
    "df.head(5)\n",
    "# fow: fall of wicket;   rpo: run per over or run rate\n",
    "\n",
    "if merge_train_valid == 1:\n",
    "    valid_df = pd.read_csv('dataset_cricket_match/val.csv')\n",
    "    valid_df = valid_df.drop(\"Unnamed: 0\", axis = 1)\n",
    "    df = pd.concat([df,valid_df])"
   ]
  },
  {
   "cell_type": "code",
   "execution_count": null,
   "id": "1fdd0dff-aacb-4d60-96a5-b2ac7cff4dbf",
   "metadata": {},
   "outputs": [],
   "source": []
  },
  {
   "cell_type": "markdown",
   "id": "576ea42b-bbb2-496f-86ce-2fcdae5f8a7f",
   "metadata": {},
   "source": [
    "### Convert Categorical Data to One Hot Encoding"
   ]
  },
  {
   "cell_type": "code",
   "execution_count": 3,
   "id": "5232448c-c72c-4470-93ee-6d79b0e4fc9a",
   "metadata": {},
   "outputs": [
    {
     "data": {
      "text/html": [
       "<div>\n",
       "<style scoped>\n",
       "    .dataframe tbody tr th:only-of-type {\n",
       "        vertical-align: middle;\n",
       "    }\n",
       "\n",
       "    .dataframe tbody tr th {\n",
       "        vertical-align: top;\n",
       "    }\n",
       "\n",
       "    .dataframe thead th {\n",
       "        text-align: right;\n",
       "    }\n",
       "</style>\n",
       "<table border=\"1\" class=\"dataframe\">\n",
       "  <thead>\n",
       "    <tr style=\"text-align: right;\">\n",
       "      <th></th>\n",
       "      <th>year</th>\n",
       "      <th>toss</th>\n",
       "      <th>bat_first</th>\n",
       "      <th>format</th>\n",
       "      <th>fow</th>\n",
       "      <th>score</th>\n",
       "      <th>rpo</th>\n",
       "      <th>result</th>\n",
       "      <th>team_australia</th>\n",
       "      <th>team_india</th>\n",
       "      <th>...</th>\n",
       "      <th>month_mar</th>\n",
       "      <th>month_jun</th>\n",
       "      <th>month_oct</th>\n",
       "      <th>month_feb</th>\n",
       "      <th>month_apr</th>\n",
       "      <th>month_may</th>\n",
       "      <th>month_dec</th>\n",
       "      <th>day_match_0</th>\n",
       "      <th>day_match_1</th>\n",
       "      <th>day_match_2</th>\n",
       "    </tr>\n",
       "  </thead>\n",
       "  <tbody>\n",
       "    <tr>\n",
       "      <th>0</th>\n",
       "      <td>2012</td>\n",
       "      <td>1</td>\n",
       "      <td>0</td>\n",
       "      <td>1</td>\n",
       "      <td>5</td>\n",
       "      <td>146</td>\n",
       "      <td>7.30</td>\n",
       "      <td>1</td>\n",
       "      <td>1</td>\n",
       "      <td>0</td>\n",
       "      <td>...</td>\n",
       "      <td>0</td>\n",
       "      <td>0</td>\n",
       "      <td>0</td>\n",
       "      <td>0</td>\n",
       "      <td>0</td>\n",
       "      <td>0</td>\n",
       "      <td>0</td>\n",
       "      <td>1</td>\n",
       "      <td>0</td>\n",
       "      <td>0</td>\n",
       "    </tr>\n",
       "    <tr>\n",
       "      <th>1</th>\n",
       "      <td>2020</td>\n",
       "      <td>0</td>\n",
       "      <td>1</td>\n",
       "      <td>0</td>\n",
       "      <td>6</td>\n",
       "      <td>340</td>\n",
       "      <td>6.80</td>\n",
       "      <td>1</td>\n",
       "      <td>0</td>\n",
       "      <td>1</td>\n",
       "      <td>...</td>\n",
       "      <td>0</td>\n",
       "      <td>0</td>\n",
       "      <td>0</td>\n",
       "      <td>0</td>\n",
       "      <td>0</td>\n",
       "      <td>0</td>\n",
       "      <td>0</td>\n",
       "      <td>1</td>\n",
       "      <td>0</td>\n",
       "      <td>0</td>\n",
       "    </tr>\n",
       "    <tr>\n",
       "      <th>2</th>\n",
       "      <td>2009</td>\n",
       "      <td>1</td>\n",
       "      <td>0</td>\n",
       "      <td>0</td>\n",
       "      <td>4</td>\n",
       "      <td>286</td>\n",
       "      <td>5.72</td>\n",
       "      <td>1</td>\n",
       "      <td>0</td>\n",
       "      <td>0</td>\n",
       "      <td>...</td>\n",
       "      <td>0</td>\n",
       "      <td>0</td>\n",
       "      <td>0</td>\n",
       "      <td>0</td>\n",
       "      <td>0</td>\n",
       "      <td>0</td>\n",
       "      <td>0</td>\n",
       "      <td>0</td>\n",
       "      <td>1</td>\n",
       "      <td>0</td>\n",
       "    </tr>\n",
       "    <tr>\n",
       "      <th>3</th>\n",
       "      <td>1987</td>\n",
       "      <td>1</td>\n",
       "      <td>1</td>\n",
       "      <td>0</td>\n",
       "      <td>6</td>\n",
       "      <td>225</td>\n",
       "      <td>4.50</td>\n",
       "      <td>1</td>\n",
       "      <td>1</td>\n",
       "      <td>0</td>\n",
       "      <td>...</td>\n",
       "      <td>0</td>\n",
       "      <td>0</td>\n",
       "      <td>0</td>\n",
       "      <td>0</td>\n",
       "      <td>0</td>\n",
       "      <td>0</td>\n",
       "      <td>0</td>\n",
       "      <td>0</td>\n",
       "      <td>1</td>\n",
       "      <td>0</td>\n",
       "    </tr>\n",
       "    <tr>\n",
       "      <th>4</th>\n",
       "      <td>2009</td>\n",
       "      <td>0</td>\n",
       "      <td>0</td>\n",
       "      <td>1</td>\n",
       "      <td>5</td>\n",
       "      <td>153</td>\n",
       "      <td>7.65</td>\n",
       "      <td>0</td>\n",
       "      <td>0</td>\n",
       "      <td>0</td>\n",
       "      <td>...</td>\n",
       "      <td>0</td>\n",
       "      <td>0</td>\n",
       "      <td>0</td>\n",
       "      <td>0</td>\n",
       "      <td>0</td>\n",
       "      <td>0</td>\n",
       "      <td>0</td>\n",
       "      <td>1</td>\n",
       "      <td>0</td>\n",
       "      <td>0</td>\n",
       "    </tr>\n",
       "  </tbody>\n",
       "</table>\n",
       "<p>5 rows × 80 columns</p>\n",
       "</div>"
      ],
      "text/plain": [
       "   year  toss  bat_first  format  fow  score   rpo  result  team_australia  \\\n",
       "0  2012     1          0       1    5    146  7.30       1               1   \n",
       "1  2020     0          1       0    6    340  6.80       1               0   \n",
       "2  2009     1          0       0    4    286  5.72       1               0   \n",
       "3  1987     1          1       0    6    225  4.50       1               1   \n",
       "4  2009     0          0       1    5    153  7.65       0               0   \n",
       "\n",
       "   team_india  ...  month_mar  month_jun  month_oct  month_feb  month_apr  \\\n",
       "0           0  ...          0          0          0          0          0   \n",
       "1           1  ...          0          0          0          0          0   \n",
       "2           0  ...          0          0          0          0          0   \n",
       "3           0  ...          0          0          0          0          0   \n",
       "4           0  ...          0          0          0          0          0   \n",
       "\n",
       "   month_may  month_dec  day_match_0  day_match_1  day_match_2  \n",
       "0          0          0            1            0            0  \n",
       "1          0          0            1            0            0  \n",
       "2          0          0            0            1            0  \n",
       "3          0          0            0            1            0  \n",
       "4          0          0            1            0            0  \n",
       "\n",
       "[5 rows x 80 columns]"
      ]
     },
     "execution_count": 3,
     "metadata": {},
     "output_type": "execute_result"
    }
   ],
   "source": [
    "def convert_df_to_one_hot(df):\n",
    "    for attr_name in need_label_encoding:\n",
    "        unique_attr = df[attr_name].unique()\n",
    "        for attr_val in unique_attr:\n",
    "            new_attr_name = attr_name + \"_\" + str(attr_val)\n",
    "            df[new_attr_name] = 0\n",
    "            df.loc[df[attr_name] == attr_val, new_attr_name] = 1\n",
    "        df = df.drop(attr_name, axis = 1) # drops columns\n",
    "    return df\n",
    "    \n",
    "if use_one_hot_encoding == 1:\n",
    "   df = convert_df_to_one_hot(df) \n",
    "df.head()"
   ]
  },
  {
   "cell_type": "code",
   "execution_count": null,
   "id": "67023b20-b573-4e50-b2e4-ef5b315ac88b",
   "metadata": {},
   "outputs": [],
   "source": []
  },
  {
   "cell_type": "markdown",
   "id": "cced04dd-fdf6-43ff-90ad-b0138b6b4363",
   "metadata": {},
   "source": [
    "### STATS"
   ]
  },
  {
   "cell_type": "code",
   "execution_count": 4,
   "id": "2fb3e181-a851-4725-872c-ac989d0863a3",
   "metadata": {},
   "outputs": [
    {
     "name": "stdout",
     "output_type": "stream",
     "text": [
      "number of rows         :  7827\n",
      "number of features     :  79\n",
      "number of class labels :  2\n"
     ]
    }
   ],
   "source": [
    "print (\"number of rows         : \", df.shape[0])\n",
    "print (\"number of features     : \", df.shape[1]-1)  # excluding the class labels\n",
    "print (\"number of class labels : \", 2)\n",
    "#df.info()"
   ]
  },
  {
   "cell_type": "code",
   "execution_count": null,
   "id": "f0416724-25f0-4edf-b402-1a9050cb6e62",
   "metadata": {},
   "outputs": [],
   "source": []
  },
  {
   "cell_type": "markdown",
   "id": "7531863c-fd12-470b-b76f-8b6f105c9c21",
   "metadata": {},
   "source": [
    "### Identify Attributes as Categorical or Continuous"
   ]
  },
  {
   "cell_type": "code",
   "execution_count": 5,
   "id": "757d84a1-5b65-4df7-99e8-7ee32cc151e3",
   "metadata": {},
   "outputs": [],
   "source": [
    "attr_list = df.axes[1].tolist()\n",
    "attr_list.remove('result')\n",
    "cont_attr = ['fow', 'score', 'rpo']"
   ]
  },
  {
   "cell_type": "code",
   "execution_count": null,
   "id": "dfcf3942-82ba-408f-a961-dc65e37106c5",
   "metadata": {},
   "outputs": [],
   "source": []
  },
  {
   "cell_type": "markdown",
   "id": "cc2a9cad-64a6-4c90-a074-099dddc1e0b6",
   "metadata": {},
   "source": [
    "### Convert to Numpy Arrays"
   ]
  },
  {
   "cell_type": "code",
   "execution_count": 6,
   "id": "17046279-4773-4ae7-95b2-4f7cf57bcb71",
   "metadata": {},
   "outputs": [
    {
     "name": "stdout",
     "output_type": "stream",
     "text": [
      "data and features shape:  (7827, 79)\n",
      "class lables shape     :  (7827,)\n"
     ]
    }
   ],
   "source": [
    "y_train = df['result'].to_numpy()\n",
    "df      = df.drop(\"result\", axis = 1)\n",
    "x_train = df.to_numpy()\n",
    "print (\"data and features shape: \", x_train.shape)\n",
    "print (\"class lables shape     : \", y_train.shape)"
   ]
  },
  {
   "cell_type": "code",
   "execution_count": null,
   "id": "57be3c57-bf2a-48bd-b4fb-85b3debb41fe",
   "metadata": {},
   "outputs": [],
   "source": []
  },
  {
   "cell_type": "markdown",
   "id": "e6eb789b-7546-492a-9658-6b448e85bae5",
   "metadata": {},
   "source": [
    "### Scikit Train"
   ]
  },
  {
   "cell_type": "code",
   "execution_count": 7,
   "id": "4a03eaeb-673f-4eda-853d-54d57042e066",
   "metadata": {},
   "outputs": [
    {
     "data": {
      "text/html": [
       "<style>#sk-container-id-1 {color: black;}#sk-container-id-1 pre{padding: 0;}#sk-container-id-1 div.sk-toggleable {background-color: white;}#sk-container-id-1 label.sk-toggleable__label {cursor: pointer;display: block;width: 100%;margin-bottom: 0;padding: 0.3em;box-sizing: border-box;text-align: center;}#sk-container-id-1 label.sk-toggleable__label-arrow:before {content: \"▸\";float: left;margin-right: 0.25em;color: #696969;}#sk-container-id-1 label.sk-toggleable__label-arrow:hover:before {color: black;}#sk-container-id-1 div.sk-estimator:hover label.sk-toggleable__label-arrow:before {color: black;}#sk-container-id-1 div.sk-toggleable__content {max-height: 0;max-width: 0;overflow: hidden;text-align: left;background-color: #f0f8ff;}#sk-container-id-1 div.sk-toggleable__content pre {margin: 0.2em;color: black;border-radius: 0.25em;background-color: #f0f8ff;}#sk-container-id-1 input.sk-toggleable__control:checked~div.sk-toggleable__content {max-height: 200px;max-width: 100%;overflow: auto;}#sk-container-id-1 input.sk-toggleable__control:checked~label.sk-toggleable__label-arrow:before {content: \"▾\";}#sk-container-id-1 div.sk-estimator input.sk-toggleable__control:checked~label.sk-toggleable__label {background-color: #d4ebff;}#sk-container-id-1 div.sk-label input.sk-toggleable__control:checked~label.sk-toggleable__label {background-color: #d4ebff;}#sk-container-id-1 input.sk-hidden--visually {border: 0;clip: rect(1px 1px 1px 1px);clip: rect(1px, 1px, 1px, 1px);height: 1px;margin: -1px;overflow: hidden;padding: 0;position: absolute;width: 1px;}#sk-container-id-1 div.sk-estimator {font-family: monospace;background-color: #f0f8ff;border: 1px dotted black;border-radius: 0.25em;box-sizing: border-box;margin-bottom: 0.5em;}#sk-container-id-1 div.sk-estimator:hover {background-color: #d4ebff;}#sk-container-id-1 div.sk-parallel-item::after {content: \"\";width: 100%;border-bottom: 1px solid gray;flex-grow: 1;}#sk-container-id-1 div.sk-label:hover label.sk-toggleable__label {background-color: #d4ebff;}#sk-container-id-1 div.sk-serial::before {content: \"\";position: absolute;border-left: 1px solid gray;box-sizing: border-box;top: 0;bottom: 0;left: 50%;z-index: 0;}#sk-container-id-1 div.sk-serial {display: flex;flex-direction: column;align-items: center;background-color: white;padding-right: 0.2em;padding-left: 0.2em;position: relative;}#sk-container-id-1 div.sk-item {position: relative;z-index: 1;}#sk-container-id-1 div.sk-parallel {display: flex;align-items: stretch;justify-content: center;background-color: white;position: relative;}#sk-container-id-1 div.sk-item::before, #sk-container-id-1 div.sk-parallel-item::before {content: \"\";position: absolute;border-left: 1px solid gray;box-sizing: border-box;top: 0;bottom: 0;left: 50%;z-index: -1;}#sk-container-id-1 div.sk-parallel-item {display: flex;flex-direction: column;z-index: 1;position: relative;background-color: white;}#sk-container-id-1 div.sk-parallel-item:first-child::after {align-self: flex-end;width: 50%;}#sk-container-id-1 div.sk-parallel-item:last-child::after {align-self: flex-start;width: 50%;}#sk-container-id-1 div.sk-parallel-item:only-child::after {width: 0;}#sk-container-id-1 div.sk-dashed-wrapped {border: 1px dashed gray;margin: 0 0.4em 0.5em 0.4em;box-sizing: border-box;padding-bottom: 0.4em;background-color: white;}#sk-container-id-1 div.sk-label label {font-family: monospace;font-weight: bold;display: inline-block;line-height: 1.2em;}#sk-container-id-1 div.sk-label-container {text-align: center;}#sk-container-id-1 div.sk-container {/* jupyter's `normalize.less` sets `[hidden] { display: none; }` but bootstrap.min.css set `[hidden] { display: none !important; }` so we also need the `!important` here to be able to override the default hidden behavior on the sphinx rendered scikit-learn.org. See: https://github.com/scikit-learn/scikit-learn/issues/21755 */display: inline-block !important;position: relative;}#sk-container-id-1 div.sk-text-repr-fallback {display: none;}</style><div id=\"sk-container-id-1\" class=\"sk-top-container\"><div class=\"sk-text-repr-fallback\"><pre>GridSearchCV(cv=5, estimator=RandomForestClassifier(random_state=0),\n",
       "             param_grid={&#x27;max_depth&#x27;: [10, 15, 50, 80],\n",
       "                         &#x27;max_features&#x27;: [0.5, 1],\n",
       "                         &#x27;min_samples_split&#x27;: [2, 4, 10]})</pre><b>In a Jupyter environment, please rerun this cell to show the HTML representation or trust the notebook. <br />On GitHub, the HTML representation is unable to render, please try loading this page with nbviewer.org.</b></div><div class=\"sk-container\" hidden><div class=\"sk-item sk-dashed-wrapped\"><div class=\"sk-label-container\"><div class=\"sk-label sk-toggleable\"><input class=\"sk-toggleable__control sk-hidden--visually\" id=\"sk-estimator-id-1\" type=\"checkbox\" ><label for=\"sk-estimator-id-1\" class=\"sk-toggleable__label sk-toggleable__label-arrow\">GridSearchCV</label><div class=\"sk-toggleable__content\"><pre>GridSearchCV(cv=5, estimator=RandomForestClassifier(random_state=0),\n",
       "             param_grid={&#x27;max_depth&#x27;: [10, 15, 50, 80],\n",
       "                         &#x27;max_features&#x27;: [0.5, 1],\n",
       "                         &#x27;min_samples_split&#x27;: [2, 4, 10]})</pre></div></div></div><div class=\"sk-parallel\"><div class=\"sk-parallel-item\"><div class=\"sk-item\"><div class=\"sk-label-container\"><div class=\"sk-label sk-toggleable\"><input class=\"sk-toggleable__control sk-hidden--visually\" id=\"sk-estimator-id-2\" type=\"checkbox\" ><label for=\"sk-estimator-id-2\" class=\"sk-toggleable__label sk-toggleable__label-arrow\">estimator: RandomForestClassifier</label><div class=\"sk-toggleable__content\"><pre>RandomForestClassifier(random_state=0)</pre></div></div></div><div class=\"sk-serial\"><div class=\"sk-item\"><div class=\"sk-estimator sk-toggleable\"><input class=\"sk-toggleable__control sk-hidden--visually\" id=\"sk-estimator-id-3\" type=\"checkbox\" ><label for=\"sk-estimator-id-3\" class=\"sk-toggleable__label sk-toggleable__label-arrow\">RandomForestClassifier</label><div class=\"sk-toggleable__content\"><pre>RandomForestClassifier(random_state=0)</pre></div></div></div></div></div></div></div></div></div></div>"
      ],
      "text/plain": [
       "GridSearchCV(cv=5, estimator=RandomForestClassifier(random_state=0),\n",
       "             param_grid={'max_depth': [10, 15, 50, 80],\n",
       "                         'max_features': [0.5, 1],\n",
       "                         'min_samples_split': [2, 4, 10]})"
      ]
     },
     "execution_count": 7,
     "metadata": {},
     "output_type": "execute_result"
    }
   ],
   "source": [
    "from sklearn.ensemble import RandomForestClassifier\n",
    "from sklearn.model_selection import GridSearchCV\n",
    "\n",
    "# default max_depth = None;  nodes are expanded until all leaves are pure or until all leaves contain less than 2 samples.\n",
    "# default n_estimators = 100; number of trees in the forest\n",
    "# default max_features     = sqrt(num_features); number of features to choose the best split\n",
    "# default min_sample_split = 2; number of childeren to split into\n",
    "if use_default == 1:\n",
    "    baseClf = RandomForestClassifier(random_state=0)\n",
    "else:\n",
    "    baseClf = RandomForestClassifier(random_state=0, max_depth = depth_limit, n_estimators=num_trees)\n",
    "\n",
    "if use_grid_search == 1:\n",
    "    param_grid = {'max_depth':        [10, 15, 50, 80], \n",
    "                  #'n_estimators':     [50, 100],\n",
    "                  'max_features':     [0.5, 1],\n",
    "                  'min_samples_split':[2, 4, 10]\n",
    "                 }      \n",
    "    # this might not work better than default sometime since cv error is minimized\n",
    "    \n",
    "    #param_grid = {'max_depth': [80]}                             # this must work the same as default\n",
    "    clf       = GridSearchCV(baseClf, param_grid, cv=5)           # cv = number of cross-validation folds (more value; more overfitting)\n",
    "else:\n",
    "    clf = baseClf\n",
    "\n",
    "#print(\"specifications of the classifier: \\n\\n\", vars(clf))   \n",
    "clf.fit(x_train, y_train)                            "
   ]
  },
  {
   "cell_type": "code",
   "execution_count": null,
   "id": "80ceac9b-1998-4c66-aa37-e4c64a51b01f",
   "metadata": {},
   "outputs": [],
   "source": []
  },
  {
   "cell_type": "markdown",
   "id": "1e459329-e3f7-4313-a43f-16a86919ba81",
   "metadata": {},
   "source": [
    "### Scikit Predict"
   ]
  },
  {
   "cell_type": "code",
   "execution_count": 8,
   "id": "1e6f0f32-7a0e-4e24-9829-25f307f0616e",
   "metadata": {},
   "outputs": [
    {
     "name": "stdout",
     "output_type": "stream",
     "text": [
      "number of rows         :  7827\n",
      "number of rows         :  870\n",
      "number of rows         :  967\n"
     ]
    }
   ],
   "source": [
    "import pandas as pd\n",
    "from sklearn.metrics import classification_report, confusion_matrix, accuracy_score\n",
    "\n",
    "train_df = pd.read_csv('dataset_cricket_match/train.csv')\n",
    "valid_df = pd.read_csv('dataset_cricket_match/val.csv')\n",
    "test_df  = pd.read_csv('dataset_cricket_match/test.csv')\n",
    "df_list  = [train_df, valid_df, test_df] \n",
    "x_list   = []\n",
    "y_list   = []\n",
    "\n",
    "index = 0\n",
    "for df in df_list:\n",
    "    df = df.drop(\"Unnamed: 0\", axis = 1)\n",
    "    if use_one_hot_encoding == 1:           # converting categorical attributes to one hot encoded vector\n",
    "        df = convert_df_to_one_hot(df) \n",
    "    print (\"number of rows         : \", df.shape[0])\n",
    "    \n",
    "    y_data = df['result'].to_numpy()\n",
    "    df     = df.drop(\"result\", axis = 1)\n",
    "    x_data = df.to_numpy()\n",
    "\n",
    "    x_list.append(x_data)\n",
    "    y_list.append(y_data)\n",
    "    "
   ]
  },
  {
   "cell_type": "code",
   "execution_count": 9,
   "id": "ea5ad9d0-08eb-42b8-befe-c6984680ece1",
   "metadata": {},
   "outputs": [
    {
     "name": "stdout",
     "output_type": "stream",
     "text": [
      "PR Report         : \n",
      "               precision    recall  f1-score   support\n",
      "\n",
      "           0       0.96      0.96      0.96      3887\n",
      "           1       0.96      0.96      0.96      3940\n",
      "\n",
      "    accuracy                           0.96      7827\n",
      "   macro avg       0.96      0.96      0.96      7827\n",
      "weighted avg       0.96      0.96      0.96      7827\n",
      "\n",
      "Confusion Matrix  : \n",
      " [[3733  154]\n",
      " [ 139 3801]]\n",
      "\n",
      "accuracy:  0.9625654784719561\n",
      "PR Report         : \n",
      "               precision    recall  f1-score   support\n",
      "\n",
      "           0       0.67      0.69      0.68       458\n",
      "           1       0.64      0.62      0.63       412\n",
      "\n",
      "    accuracy                           0.65       870\n",
      "   macro avg       0.65      0.65      0.65       870\n",
      "weighted avg       0.65      0.65      0.65       870\n",
      "\n",
      "Confusion Matrix  : \n",
      " [[314 144]\n",
      " [158 254]]\n",
      "\n",
      "accuracy:  0.6528735632183909\n",
      "PR Report         : \n",
      "               precision    recall  f1-score   support\n",
      "\n",
      "           0       0.63      0.71      0.67       487\n",
      "           1       0.66      0.57      0.61       480\n",
      "\n",
      "    accuracy                           0.64       967\n",
      "   macro avg       0.64      0.64      0.64       967\n",
      "weighted avg       0.64      0.64      0.64       967\n",
      "\n",
      "Confusion Matrix  : \n",
      " [[345 142]\n",
      " [204 276]]\n",
      "\n",
      "accuracy:  0.6421923474663909\n"
     ]
    }
   ],
   "source": [
    "from sklearn.metrics import classification_report, confusion_matrix, accuracy_score\n",
    "def getAccuracy(index, enable_prints):\n",
    "    y_pred = clf.predict(x_list[index])\n",
    "    y_pred = y_pred.tolist()\n",
    "    y_true = y_list[index].tolist()\n",
    "    classes = [0,1]\n",
    "    if enable_prints == 1:\n",
    "        print(\"PR Report         : \\n\", classification_report(y_true, y_pred, labels=classes, zero_division=0))\n",
    "        print(\"Confusion Matrix  : \\n\", confusion_matrix(y_true, y_pred))\n",
    "        #print(\"\\nAccuracy        : \", accuracy_score(y_true, y_pred))\n",
    "    return accuracy_score(y_true, y_pred)\n",
    "\n",
    "df_list = [df]\n",
    "for index in range(0, len(x_list)):\n",
    "    print (\"\\naccuracy: \", getAccuracy(index,1))"
   ]
  },
  {
   "cell_type": "code",
   "execution_count": null,
   "id": "4470454f-bd73-4e4f-9600-d230566d4d0e",
   "metadata": {},
   "outputs": [],
   "source": []
  },
  {
   "cell_type": "code",
   "execution_count": null,
   "id": "32ff741e-2997-45e5-b23b-1ffd67d682af",
   "metadata": {},
   "outputs": [],
   "source": []
  },
  {
   "cell_type": "code",
   "execution_count": null,
   "id": "e0e709c4-bc6b-440c-8664-e2b6f15b9099",
   "metadata": {},
   "outputs": [],
   "source": []
  },
  {
   "cell_type": "code",
   "execution_count": null,
   "id": "944011ac-52de-41a8-868b-7b71e4493c0e",
   "metadata": {},
   "outputs": [],
   "source": []
  }
 ],
 "metadata": {
  "kernelspec": {
   "display_name": "Python 3 (ipykernel)",
   "language": "python",
   "name": "python3"
  },
  "language_info": {
   "codemirror_mode": {
    "name": "ipython",
    "version": 3
   },
   "file_extension": ".py",
   "mimetype": "text/x-python",
   "name": "python",
   "nbconvert_exporter": "python",
   "pygments_lexer": "ipython3",
   "version": "3.9.12"
  }
 },
 "nbformat": 4,
 "nbformat_minor": 5
}
