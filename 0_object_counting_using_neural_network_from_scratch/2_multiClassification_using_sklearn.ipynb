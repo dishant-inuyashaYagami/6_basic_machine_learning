{
 "cells": [
  {
   "cell_type": "markdown",
   "id": "63df294b-7dfd-4f68-9ea3-d8da848082d5",
   "metadata": {},
   "source": [
    "## ==========  MULTI CLASSIFICATION: CLEVR DATA SET  =============="
   ]
  },
  {
   "cell_type": "markdown",
   "id": "54c67fc2-5aaf-4bfd-aa1b-af11ddbe31d8",
   "metadata": {},
   "source": [
    "### Using MLP (Multi-Layer Perceptron) Classifier"
   ]
  },
  {
   "cell_type": "markdown",
   "id": "9555aa83-223b-43b9-8223-212a9d5b0bfa",
   "metadata": {},
   "source": [
    "### Reading Input Dataset: Image Pixels & Class Labels"
   ]
  },
  {
   "cell_type": "code",
   "execution_count": 1,
   "id": "06708265-b6bd-4f8d-b08e-386746376077",
   "metadata": {},
   "outputs": [],
   "source": [
    "import csv\n",
    "import os"
   ]
  },
  {
   "cell_type": "code",
   "execution_count": 2,
   "id": "097128b3-2479-483f-89bb-975139f19f0c",
   "metadata": {},
   "outputs": [
    {
     "name": "stdout",
     "output_type": "stream",
     "text": [
      "training data det:           [[ 0.21568627  0.21568627  0.21568627 ... -0.19215686 -0.15294118\n",
      "  -1.        ]\n",
      " [ 0.21568627  0.21568627  0.22352941 ... -0.19215686 -0.15294118\n",
      "  -1.        ]\n",
      " [ 0.21568627  0.21568627  0.22352941 ... -0.2        -0.15294118\n",
      "  -1.        ]\n",
      " ...\n",
      " [ 0.21568627  0.21568627  0.21568627 ... -0.19215686 -0.14509804\n",
      "  -1.        ]\n",
      " [ 0.21568627  0.21568627  0.21568627 ... -0.19215686 -0.14509804\n",
      "  -1.        ]\n",
      " [ 0.21568627  0.21568627  0.21568627 ... -0.19215686 -0.15294118\n",
      "  -1.        ]]\n",
      "\n",
      "training class labels:     [1. 3. 4. ... 4. 3. 2.]\n",
      "\n",
      "testing data det:          [[ 0.20784314  0.21568627  0.21568627 ... -0.19215686 -0.15294118\n",
      "  -1.        ]\n",
      " [ 0.21568627  0.21568627  0.22352941 ... -0.19215686 -0.15294118\n",
      "  -1.        ]\n",
      " [ 0.20784314  0.21568627  0.21568627 ... -0.19215686 -0.15294118\n",
      "  -1.        ]\n",
      " ...\n",
      " [ 0.21568627  0.21568627  0.21568627 ... -0.19215686 -0.14509804\n",
      "  -1.        ]\n",
      " [ 0.21568627  0.21568627  0.21568627 ... -0.19215686 -0.14509804\n",
      "  -1.        ]\n",
      " [ 0.21568627  0.21568627  0.21568627 ... -0.19215686 -0.15294118\n",
      "  -1.        ]]\n",
      "\n",
      "testing class labels:      [1. 4. 2. 2. 2. 1. 1. 2. 1. 5. 3. 5. 3. 1. 2. 1. 1. 1. 2. 4. 4. 3. 1. 3.\n",
      " 4. 5. 2. 3. 1. 1. 5. 1. 5. 4. 2. 1. 2. 5. 1. 1. 3. 2. 2. 3. 5. 4. 3. 4.\n",
      " 4. 1. 5. 3. 2. 2. 3. 4. 2. 2. 5. 3. 1. 1. 5. 2. 4. 4. 3. 3. 1. 3. 5. 2.\n",
      " 1. 3. 3. 1. 4. 2. 4. 5. 3. 4. 1. 3. 1. 2. 5. 4. 3. 4. 5. 5. 4. 5. 4. 1.\n",
      " 3. 3. 1. 3. 2. 1. 1. 5. 3. 5. 1. 4. 2. 4. 5. 1. 4. 1. 5. 2. 3. 5. 2. 5.\n",
      " 2. 5. 3. 2. 3. 3. 3. 3. 5. 3. 1. 2. 4. 3. 2. 4. 5. 4. 3. 5. 4. 4. 3. 4.\n",
      " 4. 2. 2. 1. 1. 1. 4. 1. 1. 5. 4. 1. 2. 4. 3. 4. 1. 3. 4. 1. 3. 5. 1. 2.\n",
      " 1. 3. 1. 1. 3. 4. 2. 2. 5. 5. 2. 1. 4. 3. 5. 5. 4. 3. 2. 5. 5. 3. 1. 2.\n",
      " 4. 1. 3. 4. 3. 2. 4. 1. 4. 4. 5. 1. 2. 3. 3. 2. 5. 4. 4. 3. 3. 4. 3. 5.\n",
      " 5. 1. 3. 3. 4. 5. 3. 3. 1. 5. 4. 1. 3. 2. 5. 2. 3. 5. 2. 4. 2. 3. 3. 3.\n",
      " 3. 5. 5. 5. 5. 5. 1. 2. 5. 2. 5. 1. 1. 4. 5. 1. 1. 3. 3. 4. 4. 5. 1. 2.\n",
      " 3. 1. 5. 1. 1. 2. 5. 5. 2. 3. 4. 4. 3. 1. 4. 3. 4. 1. 2. 3. 1. 3. 3. 3.\n",
      " 4. 5. 2. 1. 1. 3. 3. 5. 1. 3. 2. 3. 1. 5. 3. 5. 1. 5. 1. 3. 2. 5. 4. 2.\n",
      " 4. 1. 2. 3. 5. 4. 2. 4. 2. 4. 3. 2. 3. 5. 3. 5. 2. 4. 5. 2. 1. 3. 5. 2.\n",
      " 4. 5. 3. 3. 3. 5. 2. 2. 3. 4. 1. 5. 5. 2. 4. 1. 3. 5. 2. 3. 4. 1. 3. 3.\n",
      " 1. 1. 1. 2. 4. 2. 4. 2. 3. 5. 5. 3. 1. 5. 5. 1. 3. 4. 1. 4. 1. 1. 4. 4.\n",
      " 1. 2. 5. 3. 4. 3. 1. 3. 2. 3. 2. 3. 2. 4. 4. 3. 2. 1. 2. 4. 5. 4. 2. 3.\n",
      " 3. 1. 5. 5. 4. 4. 3. 1. 2. 1. 4. 1. 2. 5. 2. 4. 1. 1. 4. 3. 5. 2. 4. 5.\n",
      " 1. 2. 3. 3. 5. 4. 1. 4. 3. 1. 5. 5. 4. 5. 5. 4. 5. 4. 2. 1. 2. 5. 2. 4.\n",
      " 3. 1. 2. 1. 3. 2. 2. 4. 4. 2. 1. 3. 5. 3. 2. 5. 2. 3. 1. 5. 5. 3. 2. 5.\n",
      " 3. 3. 5. 5. 3. 3. 4. 2. 5. 2. 2. 5. 1. 1. 3. 1. 2. 1. 4. 5. 2. 5. 3. 4.\n",
      " 1. 3. 5. 4. 1. 4. 3. 1. 2. 4. 1. 3. 1. 1. 4. 1. 2. 2. 1. 2. 4. 3. 5. 1.\n",
      " 1. 5. 1. 4. 1. 5. 5. 5. 3. 5. 1. 4. 2. 1. 5. 1. 2. 4. 5. 1. 2. 3. 5. 4.\n",
      " 5. 3. 4. 5. 1. 5. 1. 4. 3. 1. 1. 2. 3. 4. 3. 4. 5. 4. 3. 3. 5. 2. 3. 1.\n",
      " 5. 4. 2. 2. 3. 3. 2. 3. 2. 1. 5. 2. 3. 1. 3. 5. 3. 1. 2. 4. 5. 5. 2. 2.\n",
      " 1. 1. 4. 3. 5. 5. 5. 4. 1. 1. 3. 3. 5. 1. 4. 2. 3. 5. 1. 2. 3. 1. 3. 1.\n",
      " 3. 5. 4. 4. 4. 1. 1. 2. 5. 2. 3. 3. 4. 5. 4. 4. 3. 5. 1. 3. 3. 2. 2. 5.\n",
      " 3. 2. 4. 2. 1. 4. 3. 3. 1. 1. 1. 3. 2. 3. 4. 2. 1. 2. 1. 4. 2. 4. 4. 2.\n",
      " 5. 2. 3. 5. 1. 5. 4. 1. 5. 5. 1. 3. 5. 4. 3. 5. 3. 2. 5. 4. 4. 2. 3. 4.\n",
      " 4. 5. 1. 3. 3. 5. 2. 3. 4. 5. 4. 1. 2. 5. 2. 5. 2. 3. 3. 4. 4. 1. 4. 4.\n",
      " 5. 2. 5. 5. 2. 1. 1. 1. 5. 2. 4. 3. 3. 3. 1. 2. 2. 1. 4. 3. 2. 4. 2. 2.\n",
      " 5. 1. 5. 1. 2. 2. 5. 4. 1. 3. 5. 4. 2. 4. 4. 2. 1. 4. 2. 4. 1. 1. 2. 3.\n",
      " 2. 3. 2. 4. 2. 2. 1. 5. 2. 3. 2. 3. 3. 1. 4. 1. 3. 2. 4. 1. 5. 3. 2. 3.\n",
      " 4. 5. 2. 5. 3. 3. 5. 5. 4. 1. 5. 2. 4. 2. 4. 1. 1. 5. 4. 3. 5. 1. 4. 2.\n",
      " 1. 1. 4. 2. 3. 3. 5. 5. 4. 5. 4. 3. 5. 5. 1. 4. 3. 5. 4. 5. 5. 1. 4. 4.\n",
      " 4. 1. 2. 1. 1. 2. 1. 5. 4. 4. 5. 4. 3. 1. 3. 5. 2. 1. 4. 4. 2. 5. 4. 1.\n",
      " 1. 1. 3. 3. 5. 1. 4. 3. 1. 5. 1. 2. 1. 5. 1. 1. 5. 4. 5. 4. 4. 4. 2. 1.\n",
      " 5. 3. 2. 1. 5. 1. 3. 2. 1. 2. 5. 5. 4. 3. 5. 1. 3. 4. 5. 4. 2. 2. 3. 5.\n",
      " 3. 3. 1. 2. 4. 4. 4. 4. 4. 2. 1. 4. 1. 4. 1. 5. 1. 1. 3. 3. 3. 2. 2. 2.\n",
      " 1. 1. 3. 4. 1. 3. 5. 4. 5. 1. 2. 2. 3. 4. 1. 3. 4. 3. 1. 2. 2. 1. 4. 5.\n",
      " 3. 1. 1. 3. 5. 1. 3. 2. 1. 1. 2. 3. 2. 1. 3. 3. 3. 3. 3. 5. 3. 4. 4. 3.\n",
      " 1. 2. 3. 2. 3. 3. 5. 4. 3. 3. 3. 5. 5. 5. 1. 3.]\n",
      "\n",
      "size of single sample:       1024\n",
      "number of training samples:  10000\n",
      "number of testing  samples:  (10000, 1024)\n"
     ]
    }
   ],
   "source": [
    "import numpy as np \n",
    "import copy\n",
    "import sys\n",
    "import pdb\n",
    "from sklearn.neural_network import MLPClassifier\n",
    "from sklearn.metrics import classification_report\n",
    "import matplotlib.pyplot as plt \n",
    "from sklearn.preprocessing import OneHotEncoder\n",
    "\n",
    "def get_data(x_path, y_path, doNormalize):\n",
    "    ''' Returns: x: np array of [NUM_OF_SAMPLES x n]  y: np array of [NUM_OF_SAMPLES]\n",
    "    '''\n",
    "    x = np.load(x_path)\n",
    "    y = np.load(y_path)\n",
    "    \n",
    "\n",
    "    y = y.astype('float')\n",
    "    x = x.astype('float')\n",
    "\n",
    "    #normalize x:\n",
    "    if doNormalize:\n",
    "        x = 2*(0.5 - x/255)\n",
    "    return x, y\n",
    "\n",
    "x_train, y_train = get_data(\"/Users/dishantgoyal/Desktop/ml/0_neural_network_classification/clevr/x_train.npy\", \"/Users/dishantgoyal/Desktop/ml/0_neural_network_classification/clevr/y_train.npy\", 1)\n",
    "x_test,   y_test = get_data(\"/Users/dishantgoyal/Desktop/ml/0_neural_network_classification/clevr/x_test.npy\", \"/Users/dishantgoyal/Desktop/ml/0_neural_network_classification/clevr/y_test.txt\", 1)\n",
    "print (\"training data det:          \", x_train)\n",
    "print (\"\\ntraining class labels:    \", y_train)\n",
    "print (\"\\ntesting data det:         \", x_test)\n",
    "print (\"\\ntesting class labels:     \", y_test)\n",
    "print (\"\\nsize of single sample:      \", len(x_train[0]))\n",
    "print (\"number of training samples: \", len(x_train))\n",
    "print (\"number of testing  samples: \", x_test.shape)"
   ]
  },
  {
   "cell_type": "code",
   "execution_count": null,
   "id": "e21e919b-f294-4873-8a45-ae46c248f438",
   "metadata": {},
   "outputs": [],
   "source": []
  },
  {
   "cell_type": "markdown",
   "id": "c9b6d286-6a63-41e7-bd4f-085d44b12ce3",
   "metadata": {},
   "source": [
    "### Example Image"
   ]
  },
  {
   "cell_type": "code",
   "execution_count": 3,
   "id": "810a40c2-c5cd-4686-b18f-e616bcac8759",
   "metadata": {},
   "outputs": [
    {
     "name": "stdout",
     "output_type": "stream",
     "text": [
      "number of boxes in the image:  3.0\n"
     ]
    },
    {
     "data": {
      "image/png": "[encoded data removed]",
      "text/plain": [
       "<Figure size 432x288 with 1 Axes>"
      ]
     },
     "metadata": {
      "needs_background": "light"
     },
     "output_type": "display_data"
    }
   ],
   "source": [
    "x_train_rgb, y_train = get_data(\"/Users/dishantgoyal/Desktop/ml/0_neural_network_classification/clevr/x_train.npy\", \"/Users/dishantgoyal/Desktop/ml/0_neural_network_classification/clevr/y_train.npy\", 0)\n",
    "x_test_rgb,  y_test = get_data(\"/Users/dishantgoyal/Desktop/ml/0_neural_network_classification/clevr/x_test.npy\", \"/Users/dishantgoyal/Desktop/ml/0_neural_network_classification/clevr/y_test.txt\", 0)\n",
    "\n",
    "from matplotlib import pyplot as plt\n",
    "index = 4\n",
    "img = np.reshape(np.uint64(x_train_rgb[index]), (16, 16, 4))\n",
    "plt.imshow(img)\n",
    "plt.axis('off')  # Turn off the axis\n",
    "plt.show\n",
    "print (\"number of boxes in the image: \", y_train[index])"
   ]
  },
  {
   "cell_type": "code",
   "execution_count": null,
   "id": "71020057-2723-445e-845e-61cb18d7a0e3",
   "metadata": {},
   "outputs": [],
   "source": []
  },
  {
   "cell_type": "markdown",
   "id": "16b15223-ad40-4702-becb-83761b04cf76",
   "metadata": {},
   "source": [
    "### Distribution of Class Labels"
   ]
  },
  {
   "cell_type": "code",
   "execution_count": 4,
   "id": "7959e81b-6b7a-43b6-a9c8-d99f9f9d5b38",
   "metadata": {},
   "outputs": [
    {
     "name": "stdout",
     "output_type": "stream",
     "text": [
      "[train] unique labels:       [1. 2. 3. 4. 5.]\n",
      "[train] count distribution:  [   0 1971 1978 1952 2008 2091]\n",
      "[test]  unique labels:       [1. 2. 3. 4. 5.]\n",
      "[test]  count distribution:  [  0 214 183 219 191 193]\n"
     ]
    }
   ],
   "source": [
    "unique_labels  = np.unique(y_train)\n",
    "label_count    = np.bincount(np.int64(y_train))\n",
    "\n",
    "print (\"[train] unique labels:      \", unique_labels)\n",
    "print (\"[train] count distribution: \", label_count)\n",
    "\n",
    "unique_labels  = np.unique(y_test)\n",
    "label_count    = np.bincount(np.int64(y_test))\n",
    "\n",
    "print (\"[test]  unique labels:      \", unique_labels)\n",
    "print (\"[test]  count distribution: \", label_count)"
   ]
  },
  {
   "cell_type": "code",
   "execution_count": null,
   "id": "ee7c3380-a84a-41fe-85b3-c11f41f57db8",
   "metadata": {},
   "outputs": [],
   "source": []
  },
  {
   "cell_type": "markdown",
   "id": "67147038-2d3f-4cac-9d20-d2ac57dcba86",
   "metadata": {},
   "source": [
    "### MLP Classifier Train  [Way 1]"
   ]
  },
  {
   "cell_type": "code",
   "execution_count": 5,
   "id": "e23c4d6b-96fd-4975-b1a3-7c818148d7ba",
   "metadata": {},
   "outputs": [
    {
     "name": "stderr",
     "output_type": "stream",
     "text": [
      "/Users/dishantgoyal/anaconda3/lib/python3.9/site-packages/sklearn/neural_network/_multilayer_perceptron.py:692: ConvergenceWarning: Stochastic Optimizer: Maximum iterations (300) reached and the optimization hasn't converged yet.\n",
      "  warnings.warn(\n"
     ]
    }
   ],
   "source": [
    "from sklearn.neural_network import MLPClassifier\n",
    "from sklearn.datasets import make_classification\n",
    "from sklearn.model_selection import train_test_split\n",
    "\n",
    "clf = MLPClassifier(random_state=1, max_iter=300).fit(x_train, y_train)\n",
    "\n",
    "# number of iter = 300 (epochs), relu, adam, learning rate = 0.001, batch size = 'auto', last activation: softmax, \n",
    "# hidden layer = [100], alpha = 0.0001\n",
    "# setting random state ensures reproducibility"
   ]
  },
  {
   "cell_type": "code",
   "execution_count": null,
   "id": "c1b83e8a-e69a-427a-bde9-378d03327fde",
   "metadata": {},
   "outputs": [],
   "source": [
    "print(\"specifications of the default MLP: \\n\\n\", vars(clf))  "
   ]
  },
  {
   "cell_type": "markdown",
   "id": "415202ec-3633-4760-984e-9614dfeb932b",
   "metadata": {},
   "source": [
    "### Accuracy on Training Dataset  [Way 1]"
   ]
  },
  {
   "cell_type": "code",
   "execution_count": 6,
   "id": "7ae36ff5-8631-4a70-8620-bb206b3c2898",
   "metadata": {},
   "outputs": [
    {
     "name": "stdout",
     "output_type": "stream",
     "text": [
      "full accuracy of test  data set:  0.817\n",
      "full accuracy of train data set:  0.9061\n"
     ]
    }
   ],
   "source": [
    "print (\"full accuracy of test  data set: \", clf.score(x_test[:1000], y_test))     \n",
    "print (\"full accuracy of train data set: \", clf.score(x_train, y_train))"
   ]
  },
  {
   "cell_type": "code",
   "execution_count": 47,
   "id": "f0f55577-0c56-4c04-8d6f-68d29ca36810",
   "metadata": {},
   "outputs": [
    {
     "name": "stdout",
     "output_type": "stream",
     "text": [
      "number of boxes in the image (actual)    : 1.0\n",
      "number of boxes in the image (predicted) : 1.0\n",
      "predict probability for all classes      : [9.66348066e-01 3.36499031e-02 2.03091618e-06 3.20124928e-12\n",
      " 1.15206147e-20]\n"
     ]
    },
    {
     "data": {
      "image/png": "[encoded data removed]",
      "text/plain": [
       "<Figure size 432x288 with 1 Axes>"
      ]
     },
     "metadata": {
      "needs_background": "light"
     },
     "output_type": "display_data"
    }
   ],
   "source": [
    "from matplotlib import pyplot as plt\n",
    "index = 0\n",
    "img = np.reshape(np.uint64(x_test_rgb[index]), (16, 16, 4))\n",
    "plt.imshow(img)\n",
    "plt.axis('off')  # Turn off the axis\n",
    "plt.show\n",
    "print (\"number of boxes in the image (actual)    :\",  y_test[index])\n",
    "print (\"number of boxes in the image (predicted) :\",  clf.predict(x_test[index:index+1, :])[0])         # returns a 2d matrix\n",
    "print (\"predict probability for all classes      :\",  clf.predict_proba(x_test[index:index+1])[0])      # returns a 2d matrix"
   ]
  },
  {
   "cell_type": "code",
   "execution_count": null,
   "id": "0862c68d-175f-4d70-bcf8-486187e469ac",
   "metadata": {},
   "outputs": [],
   "source": []
  },
  {
   "cell_type": "markdown",
   "id": "ff845d42-cc2c-44ba-8b7d-ac1e46290bf9",
   "metadata": {},
   "source": [
    "### MLP Classifier Train  [Way 2]"
   ]
  },
  {
   "cell_type": "markdown",
   "id": "be8fd356-08c9-45ae-be30-e9ad038c5535",
   "metadata": {},
   "source": [
    "### Neural Network Design Parameters"
   ]
  },
  {
   "cell_type": "code",
   "execution_count": 51,
   "id": "2e9aae89-750c-4ba6-94e9-4b75da69d5c9",
   "metadata": {},
   "outputs": [
    {
     "name": "stdout",
     "output_type": "stream",
     "text": [
      "batch size              : 32\n",
      "learning rate           : invscaling\n",
      "activation function     : relu\n",
      "gradient_descent_solver : sgd\n",
      "alpha                   : 0\n",
      "num features            : 1024\n",
      "size of training        : 10000\n",
      "size of test            : 10000\n"
     ]
    }
   ],
   "source": [
    "batch_size              = 32\n",
    "learning_rate           = 'invscaling' # gradually decreases the learning rate at each time step ‘t’ (an iteration of sgd) \n",
    "                                       # using an inverse scaling exponent of ‘power_t’. \n",
    "                                       # effective_learning_rate = learning_rate_init / pow(t, power_t), where power_t = 0.5\n",
    "                                       # we implemented the same just that we had change in an epoch instead of in sgd iteration\n",
    "activation_fn           = 'relu'\n",
    "gradient_descent_solver = 'sgd'\n",
    "alpha                   = 0                            # it is related to L2-regularization\n",
    "hidden_layer_list       = [512, 256, 128, 64, 32]\n",
    "initial_num_features    = len(x_train[0])\n",
    "train_size              = len(x_train)\n",
    "test_size               = len(x_test)\n",
    "\n",
    "print (\"batch size              :\", batch_size)\n",
    "print (\"learning rate           :\", learning_rate)\n",
    "print (\"activation function     :\", activation_fn)\n",
    "print (\"gradient_descent_solver :\", gradient_descent_solver)\n",
    "print (\"alpha                   :\", alpha)\n",
    "print (\"num features            :\", initial_num_features)\n",
    "print (\"size of training        :\", train_size)\n",
    "print (\"size of test            :\", test_size)"
   ]
  },
  {
   "cell_type": "code",
   "execution_count": 9,
   "id": "a5ebecd1-5b3d-4348-a669-f8730420fb79",
   "metadata": {},
   "outputs": [
    {
     "name": "stderr",
     "output_type": "stream",
     "text": [
      "/Users/dishantgoyal/anaconda3/lib/python3.9/site-packages/sklearn/neural_network/_multilayer_perceptron.py:692: ConvergenceWarning: Stochastic Optimizer: Maximum iterations (200) reached and the optimization hasn't converged yet.\n",
      "  warnings.warn(\n"
     ]
    }
   ],
   "source": [
    "from sklearn.neural_network import MLPClassifier\n",
    "from sklearn.datasets import make_classification\n",
    "from sklearn.model_selection import train_test_split\n",
    "\n",
    "clf2 = MLPClassifier(hidden_layer_sizes=hidden_layer_list, batch_size=batch_size,\n",
    "                    alpha=alpha, learning_rate=learning_rate, solver=gradient_descent_solver\n",
    "                    ).fit(x_train, y_train)\n",
    "\n",
    "# max_iter = 200 (number of epochs)"
   ]
  },
  {
   "cell_type": "code",
   "execution_count": null,
   "id": "72c495a2-0540-4d16-a0f8-96a13e670833",
   "metadata": {},
   "outputs": [],
   "source": [
    "print(\"specifications of the MLP 2: \\n\\n\", vars(clf2))       "
   ]
  },
  {
   "cell_type": "markdown",
   "id": "95fe52da-45f5-4e4b-a3e4-4496c978f14f",
   "metadata": {},
   "source": [
    "### Accuracy on Training Dataset  [Way 2]"
   ]
  },
  {
   "cell_type": "code",
   "execution_count": 10,
   "id": "93deb474-7b10-4946-af69-5235127935b9",
   "metadata": {},
   "outputs": [
    {
     "name": "stdout",
     "output_type": "stream",
     "text": [
      "full accuracy of test  data set:  0.62\n",
      "full accuracy of train data set:  0.6264\n"
     ]
    }
   ],
   "source": [
    "print (\"full accuracy of test  data set: \", clf2.score(x_test[:1000], y_test))\n",
    "print (\"full accuracy of train data set: \", clf2.score(x_train, y_train))"
   ]
  },
  {
   "cell_type": "code",
   "execution_count": 49,
   "id": "846be022-dc56-409f-99ba-c9b8287af486",
   "metadata": {},
   "outputs": [
    {
     "name": "stdout",
     "output_type": "stream",
     "text": [
      "number of boxes in the image (actual)    : 3.0\n",
      "number of boxes in the image (predicted) : 2.0\n",
      "predict probability for all classes      : [0.05635976 0.46155548 0.36666588 0.10003543 0.01538344]\n"
     ]
    },
    {
     "data": {
      "image/png": "[encoded data removed]",
      "text/plain": [
       "<Figure size 432x288 with 1 Axes>"
      ]
     },
     "metadata": {
      "needs_background": "light"
     },
     "output_type": "display_data"
    }
   ],
   "source": [
    "from matplotlib import pyplot as plt\n",
    "index = 10\n",
    "img = np.reshape(np.uint64(x_test_rgb[index]), (16, 16, 4))\n",
    "plt.imshow(img)\n",
    "plt.axis('off')  # Turn off the axis\n",
    "plt.show\n",
    "print (\"number of boxes in the image (actual)    :\",  y_test[index])\n",
    "print (\"number of boxes in the image (predicted) :\",  clf2.predict(x_test[index:index+1, :])[0])\n",
    "print (\"predict probability for all classes      :\",  clf2.predict_proba(x_test[index:index+1])[0])"
   ]
  },
  {
   "cell_type": "code",
   "execution_count": null,
   "id": "80e07c29-376e-4883-afaf-897d3523dad0",
   "metadata": {},
   "outputs": [],
   "source": []
  }
 ],
 "metadata": {
  "kernelspec": {
   "display_name": "Python 3 (ipykernel)",
   "language": "python",
   "name": "python3"
  },
  "language_info": {
   "codemirror_mode": {
    "name": "ipython",
    "version": 3
   },
   "file_extension": ".py",
   "mimetype": "text/x-python",
   "name": "python",
   "nbconvert_exporter": "python",
   "pygments_lexer": "ipython3",
   "version": "3.9.12"
  }
 },
 "nbformat": 4,
 "nbformat_minor": 5
}
